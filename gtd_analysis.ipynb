{
 "cells": [
  {
   "cell_type": "markdown",
   "id": "2a3be1cf",
   "metadata": {},
   "source": [
    "# Global Terrorism Database EDA\n",
    "**Exploratory analysis of the Global Terrorism Database with simplified choropleth mapping.**"
   ]
  },
  {
   "metadata": {},
   "cell_type": "markdown",
   "source": "## Load the dataset",
   "id": "a965a0a832db6bf4"
  },
  {
   "cell_type": "code",
   "id": "7b50f3c3",
   "metadata": {
    "ExecuteTime": {
     "end_time": "2025-06-01T15:39:42.077219Z",
     "start_time": "2025-06-01T15:39:37.577531Z"
    }
   },
   "source": [
    "import os\n",
    "\n",
    "import kagglehub\n",
    "import matplotlib.pyplot as plt\n",
    "import pandas as pd\n",
    "\n",
    "# Download the latest version of GTD dataset\n",
    "path = kagglehub.dataset_download(\"START-UMD/gtd\")\n",
    "print(\"Path to dataset files:\", path)\n",
    "\n",
    "# Load data\n",
    "csv_file = \"globalterrorismdb_0718dist.csv\"\n",
    "df = pd.read_csv(os.path.join(path, csv_file), encoding='latin1', low_memory=False)\n",
    "\n",
    "# Parse date column\n",
    "df['date'] = pd.to_datetime(dict(year=df['iyear'], month=df['imonth'], day=df['iday']), errors='coerce')\n",
    "\n",
    "# Dataset overview\n",
    "print(f\"Dataset shape: {df.shape}\")\n",
    "df.head()"
   ],
   "outputs": [
    {
     "name": "stdout",
     "output_type": "stream",
     "text": [
      "Path to dataset files: C:\\Users\\aghinea\\.cache\\kagglehub\\datasets\\START-UMD\\gtd\\versions\\3\n",
      "Dataset shape: (181691, 136)\n"
     ]
    },
    {
     "data": {
      "text/plain": [
       "        eventid  iyear  imonth  iday approxdate  extended resolution  country  \\\n",
       "0  197000000001   1970       7     2        NaN         0        NaN       58   \n",
       "1  197000000002   1970       0     0        NaN         0        NaN      130   \n",
       "2  197001000001   1970       1     0        NaN         0        NaN      160   \n",
       "3  197001000002   1970       1     0        NaN         0        NaN       78   \n",
       "4  197001000003   1970       1     0        NaN         0        NaN      101   \n",
       "\n",
       "          country_txt  region  ... scite1 scite2 scite3  dbsource  INT_LOG  \\\n",
       "0  Dominican Republic       2  ...    NaN    NaN    NaN      PGIS        0   \n",
       "1              Mexico       1  ...    NaN    NaN    NaN      PGIS        0   \n",
       "2         Philippines       5  ...    NaN    NaN    NaN      PGIS       -9   \n",
       "3              Greece       8  ...    NaN    NaN    NaN      PGIS       -9   \n",
       "4               Japan       4  ...    NaN    NaN    NaN      PGIS       -9   \n",
       "\n",
       "   INT_IDEO  INT_MISC INT_ANY related       date  \n",
       "0         0         0       0     NaN 1970-07-02  \n",
       "1         1         1       1     NaN        NaT  \n",
       "2        -9         1       1     NaN        NaT  \n",
       "3        -9         1       1     NaN        NaT  \n",
       "4        -9         1       1     NaN        NaT  \n",
       "\n",
       "[5 rows x 136 columns]"
      ],
      "text/html": [
       "<div>\n",
       "<style scoped>\n",
       "    .dataframe tbody tr th:only-of-type {\n",
       "        vertical-align: middle;\n",
       "    }\n",
       "\n",
       "    .dataframe tbody tr th {\n",
       "        vertical-align: top;\n",
       "    }\n",
       "\n",
       "    .dataframe thead th {\n",
       "        text-align: right;\n",
       "    }\n",
       "</style>\n",
       "<table border=\"1\" class=\"dataframe\">\n",
       "  <thead>\n",
       "    <tr style=\"text-align: right;\">\n",
       "      <th></th>\n",
       "      <th>eventid</th>\n",
       "      <th>iyear</th>\n",
       "      <th>imonth</th>\n",
       "      <th>iday</th>\n",
       "      <th>approxdate</th>\n",
       "      <th>extended</th>\n",
       "      <th>resolution</th>\n",
       "      <th>country</th>\n",
       "      <th>country_txt</th>\n",
       "      <th>region</th>\n",
       "      <th>...</th>\n",
       "      <th>scite1</th>\n",
       "      <th>scite2</th>\n",
       "      <th>scite3</th>\n",
       "      <th>dbsource</th>\n",
       "      <th>INT_LOG</th>\n",
       "      <th>INT_IDEO</th>\n",
       "      <th>INT_MISC</th>\n",
       "      <th>INT_ANY</th>\n",
       "      <th>related</th>\n",
       "      <th>date</th>\n",
       "    </tr>\n",
       "  </thead>\n",
       "  <tbody>\n",
       "    <tr>\n",
       "      <th>0</th>\n",
       "      <td>197000000001</td>\n",
       "      <td>1970</td>\n",
       "      <td>7</td>\n",
       "      <td>2</td>\n",
       "      <td>NaN</td>\n",
       "      <td>0</td>\n",
       "      <td>NaN</td>\n",
       "      <td>58</td>\n",
       "      <td>Dominican Republic</td>\n",
       "      <td>2</td>\n",
       "      <td>...</td>\n",
       "      <td>NaN</td>\n",
       "      <td>NaN</td>\n",
       "      <td>NaN</td>\n",
       "      <td>PGIS</td>\n",
       "      <td>0</td>\n",
       "      <td>0</td>\n",
       "      <td>0</td>\n",
       "      <td>0</td>\n",
       "      <td>NaN</td>\n",
       "      <td>1970-07-02</td>\n",
       "    </tr>\n",
       "    <tr>\n",
       "      <th>1</th>\n",
       "      <td>197000000002</td>\n",
       "      <td>1970</td>\n",
       "      <td>0</td>\n",
       "      <td>0</td>\n",
       "      <td>NaN</td>\n",
       "      <td>0</td>\n",
       "      <td>NaN</td>\n",
       "      <td>130</td>\n",
       "      <td>Mexico</td>\n",
       "      <td>1</td>\n",
       "      <td>...</td>\n",
       "      <td>NaN</td>\n",
       "      <td>NaN</td>\n",
       "      <td>NaN</td>\n",
       "      <td>PGIS</td>\n",
       "      <td>0</td>\n",
       "      <td>1</td>\n",
       "      <td>1</td>\n",
       "      <td>1</td>\n",
       "      <td>NaN</td>\n",
       "      <td>NaT</td>\n",
       "    </tr>\n",
       "    <tr>\n",
       "      <th>2</th>\n",
       "      <td>197001000001</td>\n",
       "      <td>1970</td>\n",
       "      <td>1</td>\n",
       "      <td>0</td>\n",
       "      <td>NaN</td>\n",
       "      <td>0</td>\n",
       "      <td>NaN</td>\n",
       "      <td>160</td>\n",
       "      <td>Philippines</td>\n",
       "      <td>5</td>\n",
       "      <td>...</td>\n",
       "      <td>NaN</td>\n",
       "      <td>NaN</td>\n",
       "      <td>NaN</td>\n",
       "      <td>PGIS</td>\n",
       "      <td>-9</td>\n",
       "      <td>-9</td>\n",
       "      <td>1</td>\n",
       "      <td>1</td>\n",
       "      <td>NaN</td>\n",
       "      <td>NaT</td>\n",
       "    </tr>\n",
       "    <tr>\n",
       "      <th>3</th>\n",
       "      <td>197001000002</td>\n",
       "      <td>1970</td>\n",
       "      <td>1</td>\n",
       "      <td>0</td>\n",
       "      <td>NaN</td>\n",
       "      <td>0</td>\n",
       "      <td>NaN</td>\n",
       "      <td>78</td>\n",
       "      <td>Greece</td>\n",
       "      <td>8</td>\n",
       "      <td>...</td>\n",
       "      <td>NaN</td>\n",
       "      <td>NaN</td>\n",
       "      <td>NaN</td>\n",
       "      <td>PGIS</td>\n",
       "      <td>-9</td>\n",
       "      <td>-9</td>\n",
       "      <td>1</td>\n",
       "      <td>1</td>\n",
       "      <td>NaN</td>\n",
       "      <td>NaT</td>\n",
       "    </tr>\n",
       "    <tr>\n",
       "      <th>4</th>\n",
       "      <td>197001000003</td>\n",
       "      <td>1970</td>\n",
       "      <td>1</td>\n",
       "      <td>0</td>\n",
       "      <td>NaN</td>\n",
       "      <td>0</td>\n",
       "      <td>NaN</td>\n",
       "      <td>101</td>\n",
       "      <td>Japan</td>\n",
       "      <td>4</td>\n",
       "      <td>...</td>\n",
       "      <td>NaN</td>\n",
       "      <td>NaN</td>\n",
       "      <td>NaN</td>\n",
       "      <td>PGIS</td>\n",
       "      <td>-9</td>\n",
       "      <td>-9</td>\n",
       "      <td>1</td>\n",
       "      <td>1</td>\n",
       "      <td>NaN</td>\n",
       "      <td>NaT</td>\n",
       "    </tr>\n",
       "  </tbody>\n",
       "</table>\n",
       "<p>5 rows × 136 columns</p>\n",
       "</div>"
      ]
     },
     "execution_count": 1,
     "metadata": {},
     "output_type": "execute_result"
    }
   ],
   "execution_count": 1
  },
  {
   "cell_type": "markdown",
   "id": "e2fa7e8e",
   "metadata": {},
   "source": [
    "## Data Summary\n",
    "Overview of key columns and missing values."
   ]
  },
  {
   "cell_type": "code",
   "id": "3051b4a7",
   "metadata": {
    "ExecuteTime": {
     "end_time": "2025-06-01T15:39:42.223891Z",
     "start_time": "2025-06-01T15:39:42.193773Z"
    }
   },
   "source": [
    "summary = df[['iyear', 'country_txt', 'region_txt', 'attacktype1_txt', 'nkill', 'nwound']].isnull().sum().to_frame(\n",
    "    'missing')\n",
    "summary['dtype'] = [df[col].dtype for col in summary.index]\n",
    "summary"
   ],
   "outputs": [
    {
     "data": {
      "text/plain": [
       "                 missing    dtype\n",
       "iyear                  0    int64\n",
       "country_txt            0   object\n",
       "region_txt             0   object\n",
       "attacktype1_txt        0   object\n",
       "nkill              10313  float64\n",
       "nwound             16311  float64"
      ],
      "text/html": [
       "<div>\n",
       "<style scoped>\n",
       "    .dataframe tbody tr th:only-of-type {\n",
       "        vertical-align: middle;\n",
       "    }\n",
       "\n",
       "    .dataframe tbody tr th {\n",
       "        vertical-align: top;\n",
       "    }\n",
       "\n",
       "    .dataframe thead th {\n",
       "        text-align: right;\n",
       "    }\n",
       "</style>\n",
       "<table border=\"1\" class=\"dataframe\">\n",
       "  <thead>\n",
       "    <tr style=\"text-align: right;\">\n",
       "      <th></th>\n",
       "      <th>missing</th>\n",
       "      <th>dtype</th>\n",
       "    </tr>\n",
       "  </thead>\n",
       "  <tbody>\n",
       "    <tr>\n",
       "      <th>iyear</th>\n",
       "      <td>0</td>\n",
       "      <td>int64</td>\n",
       "    </tr>\n",
       "    <tr>\n",
       "      <th>country_txt</th>\n",
       "      <td>0</td>\n",
       "      <td>object</td>\n",
       "    </tr>\n",
       "    <tr>\n",
       "      <th>region_txt</th>\n",
       "      <td>0</td>\n",
       "      <td>object</td>\n",
       "    </tr>\n",
       "    <tr>\n",
       "      <th>attacktype1_txt</th>\n",
       "      <td>0</td>\n",
       "      <td>object</td>\n",
       "    </tr>\n",
       "    <tr>\n",
       "      <th>nkill</th>\n",
       "      <td>10313</td>\n",
       "      <td>float64</td>\n",
       "    </tr>\n",
       "    <tr>\n",
       "      <th>nwound</th>\n",
       "      <td>16311</td>\n",
       "      <td>float64</td>\n",
       "    </tr>\n",
       "  </tbody>\n",
       "</table>\n",
       "</div>"
      ]
     },
     "execution_count": 2,
     "metadata": {},
     "output_type": "execute_result"
    }
   ],
   "execution_count": 2
  },
  {
   "cell_type": "markdown",
   "id": "d04d7ee7",
   "metadata": {},
   "source": "## Results"
  },
  {
   "cell_type": "markdown",
   "id": "218e8e6d",
   "metadata": {},
   "source": "### Number of Terrorist Attacks per Year"
  },
  {
   "metadata": {
    "ExecuteTime": {
     "end_time": "2025-06-01T15:39:42.486990Z",
     "start_time": "2025-06-01T15:39:42.249275Z"
    }
   },
   "cell_type": "code",
   "source": [
    "min_year = int(df['iyear'].min())\n",
    "max_year = int(df['iyear'].max())\n",
    "attacks_per_year = df.groupby('iyear').size().rename('attacks')\n",
    "\n",
    "plt.figure(figsize=(10, 5))\n",
    "attacks_per_year.plot()\n",
    "plt.title(f'Number of Terrorist Attacks per Year (From {min_year} to {max_year})')\n",
    "plt.xlabel('Year')\n",
    "plt.ylabel('Count')\n",
    "plt.xlim(min_year, max_year)\n",
    "plt.xticks(range(min_year, max_year + 1, 5), rotation=45)\n",
    "plt.tight_layout()\n",
    "plt.show()"
   ],
   "id": "df9f8344b95d574e",
   "outputs": [
    {
     "data": {
      "text/plain": [
       "<Figure size 1000x500 with 1 Axes>"
      ],
      "image/png": "[encoded data removed]"
     },
     "metadata": {},
     "output_type": "display_data"
    }
   ],
   "execution_count": 3
  },
  {
   "metadata": {},
   "cell_type": "markdown",
   "source": "### Correlation between Attacks and Fatalities per Year",
   "id": "616fd2e2367219f4"
  },
  {
   "metadata": {
    "ExecuteTime": {
     "end_time": "2025-06-01T15:39:42.750889Z",
     "start_time": "2025-06-01T15:39:42.516616Z"
    }
   },
   "cell_type": "code",
   "source": [
    "import seaborn as sns\n",
    "\n",
    "attacks_per_year = df.groupby('iyear').size().rename('attacks')\n",
    "fatalities_per_year = df.groupby('iyear')['nkill'].sum().rename('fatalities')\n",
    "yearly = pd.concat([attacks_per_year, fatalities_per_year], axis=1).dropna()\n",
    "\n",
    "plt.figure(figsize=(6, 6))\n",
    "sns.regplot(\n",
    "    x='attacks',\n",
    "    y='fatalities',\n",
    "    data=yearly,\n",
    "    scatter_kws={'s': 30, 'alpha': 0.7},\n",
    "    line_kws={'color': 'red', 'lw': 1}\n",
    ")\n",
    "r_val = yearly['attacks'].corr(yearly['fatalities'])\n",
    "plt.title('Correlation: Attacks vs. Fatalities per Year')\n",
    "plt.xlabel('Number of Attacks')\n",
    "plt.ylabel('Number of Fatalities')\n",
    "plt.annotate(f\"r = {r_val:.2f}\",\n",
    "             xy=(0.05, 0.95),\n",
    "             xycoords='axes fraction',\n",
    "             ha='left',\n",
    "             va='top',\n",
    "             fontsize=12,\n",
    "             bbox=dict(boxstyle=\"round,pad=0.3\", fc=\"white\", ec=\"gray\", lw=0.5))\n",
    "plt.tight_layout()\n",
    "plt.show()"
   ],
   "id": "648d98d3ce630ffc",
   "outputs": [
    {
     "data": {
      "text/plain": [
       "<Figure size 600x600 with 1 Axes>"
      ],
      "image/png": "[encoded data removed]"
     },
     "metadata": {},
     "output_type": "display_data"
    }
   ],
   "execution_count": 4
  },
  {
   "metadata": {},
   "cell_type": "markdown",
   "source": "### Monthly Seasonality of Attacks",
   "id": "8e86d550f0fc8dcb"
  },
  {
   "metadata": {
    "ExecuteTime": {
     "end_time": "2025-06-01T15:39:44.736405Z",
     "start_time": "2025-06-01T15:39:44.423024Z"
    }
   },
   "cell_type": "code",
   "outputs": [
    {
     "data": {
      "text/plain": [
       "<Figure size 640x480 with 1 Axes>"
      ],
      "image/png": "[encoded data removed]"
     },
     "metadata": {},
     "output_type": "display_data"
    }
   ],
   "execution_count": 9,
   "source": [
    "# Filter out missing months (coded as 0)\n",
    "monthly = df[df['imonth'].between(1, 12)].groupby('imonth').size()\n",
    "plt.figure()\n",
    "monthly.plot(marker='o')\n",
    "plt.xticks(range(1, 13))\n",
    "plt.xlabel('Month')\n",
    "plt.ylabel('Number of Attacks')\n",
    "plt.title('Seasonality: Attacks by Month')\n",
    "plt.grid(alpha=0.3)\n",
    "plt.show()"
   ],
   "id": "ae93b09a9bd067b"
  },
  {
   "cell_type": "markdown",
   "id": "066dd1e0",
   "metadata": {},
   "source": "### Top 25 Countries by Number of Attacks (Word Cloud)"
  },
  {
   "metadata": {
    "ExecuteTime": {
     "end_time": "2025-06-01T15:39:43.140466Z",
     "start_time": "2025-06-01T15:39:42.789378Z"
    }
   },
   "cell_type": "code",
   "source": [
    "from wordcloud import WordCloud\n",
    "\n",
    "freqs = df['country_txt'].value_counts().head(25).to_dict()\n",
    "wc = WordCloud(\n",
    "    width=800,\n",
    "    height=400,\n",
    "    background_color='white',\n",
    "    max_words=25,\n",
    "    relative_scaling=0.5,  # flatten size differences a bit\n",
    "    colormap='YlGnBu',  # a smoother, eye-friendly palette\n",
    ").generate_from_frequencies(freqs)\n",
    "\n",
    "plt.figure(figsize=(12, 6))\n",
    "plt.imshow(wc, interpolation='bilinear')\n",
    "plt.axis('off')\n",
    "plt.title('Top 25 Countries by Number of Attacks (Word Cloud)')\n",
    "plt.tight_layout()\n",
    "plt.show()"
   ],
   "id": "c5fabe6ffd647e9f",
   "outputs": [
    {
     "data": {
      "text/plain": [
       "<Figure size 1200x600 with 1 Axes>"
      ],
      "image/png": "[encoded data removed]"
     },
     "metadata": {},
     "output_type": "display_data"
    }
   ],
   "execution_count": 5
  },
  {
   "cell_type": "markdown",
   "id": "41b0ab89",
   "metadata": {},
   "source": "### Terrorist Attacks per Year by Region"
  },
  {
   "cell_type": "code",
   "id": "e745cf11",
   "metadata": {
    "ExecuteTime": {
     "end_time": "2025-06-01T15:39:43.436345Z",
     "start_time": "2025-06-01T15:39:43.165681Z"
    }
   },
   "source": [
    "attacks_by_region = df.groupby(['region_txt', 'iyear']).size().unstack(fill_value=0)\n",
    "plt.figure(figsize=(8, 6))\n",
    "attacks_by_region.T.plot()\n",
    "plt.title('Terrorist Attacks per Year by Region')\n",
    "plt.xlabel('Year')\n",
    "plt.ylabel('Attacks')\n",
    "plt.legend(title='Region', bbox_to_anchor=(1, 1))\n",
    "plt.tight_layout()\n",
    "plt.show()\n",
    "# todo: looks terrible"
   ],
   "outputs": [
    {
     "data": {
      "text/plain": [
       "<Figure size 800x600 with 0 Axes>"
      ]
     },
     "metadata": {},
     "output_type": "display_data"
    },
    {
     "data": {
      "text/plain": [
       "<Figure size 640x480 with 1 Axes>"
      ],
      "image/png": "[encoded data removed]"
     },
     "metadata": {},
     "output_type": "display_data"
    }
   ],
   "execution_count": 6
  },
  {
   "cell_type": "markdown",
   "id": "6c7c0dd3",
   "metadata": {},
   "source": "### Global Terrorist Attacks by Country (Choropleth via Plotly)"
  },
  {
   "metadata": {
    "ExecuteTime": {
     "end_time": "2025-06-01T15:40:53.199361Z",
     "start_time": "2025-06-01T15:40:53.141050Z"
    }
   },
   "cell_type": "code",
   "source": [
    "import plotly.express as px\n",
    "\n",
    "# Aggregate attack counts\n",
    "attacks = df['country_txt'].value_counts().rename_axis('country').reset_index(name='attacks')\n",
    "\n",
    "# Custom colorscale: white -> soft cream -> pale yellow -> orange -> red\n",
    "custom_scale = [\n",
    "    [0.0, \"#ffffff\"],  # white\n",
    "    [0.005, \"#fffaf0\"],  # a soft off-white\n",
    "    [0.1, \"#fee8c8\"],  # cream\n",
    "    [0.3, \"#fdd49e\"],  # light orange\n",
    "    [0.5, \"#fdbb84\"],  # richer orange\n",
    "    [0.7, \"#fc8d59\"],  # salmon-orange\n",
    "    [0.9, \"#e34a33\"],  # dark orange-red\n",
    "    [1.0, \"#b30000\"]  # deep red\n",
    "]\n",
    "\n",
    "fig = px.choropleth(\n",
    "    attacks,\n",
    "    locations='country',\n",
    "    locationmode='country names',\n",
    "    color='attacks',\n",
    "    color_continuous_scale=custom_scale,\n",
    "    title='Global Terrorist Attacks by Country (1970–2017)',\n",
    "    labels={'attacks': '# Attacks'},\n",
    "    projection='natural earth',\n",
    "    height=750,\n",
    ")\n",
    "\n",
    "fig.update_layout(\n",
    "    margin={\"r\": 0, \"t\": 80, \"l\": 0, \"b\": 0},\n",
    "    coloraxis_colorbar=dict(\n",
    "        title='Attacks',\n",
    "        thicknessmode='pixels', thickness=15,\n",
    "        ticklen=3\n",
    "    ),\n",
    "    title={\n",
    "        'text': 'Global Terrorist Attacks by Country (1970–2017)',\n",
    "        'y': 0.98,\n",
    "        'x': 0.5,\n",
    "        'xanchor': 'center',\n",
    "        'yanchor': 'top'\n",
    "    }\n",
    ")\n",
    "\n",
    "fig.update_geos(\n",
    "    showland=True, landcolor=\"white\",\n",
    "    showocean=True, oceancolor=\"lightblue\",\n",
    "    showcountries=True, countrycolor=\"white\",\n",
    "    showframe=True\n",
    ")\n",
    "\n",
    "fig.show()"
   ],
   "id": "28ad26f0d781a6a7",
   "outputs": [
    {
     "data": {
      "application/vnd.plotly.v1+json": {
       "data": [
        {
         "coloraxis": "coloraxis",
         "geo": "geo",
         "hovertemplate": "country=%{location}<br># Attacks=%{z}<extra></extra>",
         "locationmode": "country names",
         "locations": [
          "Iraq",
          "Pakistan",
          "Afghanistan",
          "India",
          "Colombia",
          "Philippines",
          "Peru",
          "El Salvador",
          "United Kingdom",
          "Turkey",
          "Somalia",
          "Nigeria",
          "Thailand",
          "Yemen",
          "Spain",
          "Sri Lanka",
          "United States",
          "Algeria",
          "France",
          "Egypt",
          "Lebanon",
          "Chile",
          "Libya",
          "West Bank and Gaza Strip",
          "Syria",
          "Russia",
          "Israel",
          "Guatemala",
          "South Africa",
          "Nicaragua",
          "Ukraine",
          "Bangladesh",
          "Italy",
          "Greece",
          "Nepal",
          "Sudan",
          "Argentina",
          "Democratic Republic of the Congo",
          "Indonesia",
          "Germany",
          "Iran",
          "Kenya",
          "Burundi",
          "Mali",
          "Myanmar",
          "West Germany (FRG)",
          "Mexico",
          "Angola",
          "Japan",
          "Uganda",
          "Saudi Arabia",
          "Mozambique",
          "Cameroon",
          "Honduras",
          "Bolivia",
          "Ireland",
          "Venezuela",
          "Central African Republic",
          "Brazil",
          "Cambodia",
          "China",
          "South Sudan",
          "Ecuador",
          "Georgia",
          "Haiti",
          "Bahrain",
          "Yugoslavia",
          "Kosovo",
          "Ethiopia",
          "Tajikistan",
          "Bosnia-Herzegovina",
          "Rwanda",
          "Niger",
          "Belgium",
          "Namibia",
          "Portugal",
          "Sweden",
          "Cyprus",
          "Netherlands",
          "Panama",
          "Senegal",
          "Macedonia",
          "Austria",
          "Australia",
          "Paraguay",
          "Jordan",
          "Switzerland",
          "Tunisia",
          "Zimbabwe",
          "Sierra Leone",
          "Malaysia",
          "Canada",
          "Chad",
          "Dominican Republic",
          "Papua New Guinea",
          "Rhodesia",
          "Uruguay",
          "Albania",
          "Soviet Union",
          "Kuwait",
          "Ivory Coast",
          "Costa Rica",
          "Suriname",
          "Zambia",
          "Tanzania",
          "Croatia",
          "Guadeloupe",
          "Bulgaria",
          "Burkina Faso",
          "Zaire",
          "Taiwan",
          "Azerbaijan",
          "Togo",
          "Hungary",
          "Denmark",
          "Poland",
          "South Korea",
          "East Germany (GDR)",
          "Morocco",
          "Jamaica",
          "Republic of the Congo",
          "Kyrgyzstan",
          "Liberia",
          "Macau",
          "Czech Republic",
          "New Caledonia",
          "Cuba",
          "Lesotho",
          "Kazakhstan",
          "Madagascar",
          "Laos",
          "Guyana",
          "Hong Kong",
          "Guinea",
          "Armenia",
          "Malta",
          "Maldives",
          "United Arab Emirates",
          "Trinidad and Tobago",
          "Djibouti",
          "Uzbekistan",
          "Moldova",
          "Finland",
          "New Zealand",
          "Ghana",
          "Norway",
          "Mauritania",
          "Slovak Republic",
          "Fiji",
          "Latvia",
          "Swaziland",
          "Estonia",
          "Luxembourg",
          "Belarus",
          "Vietnam",
          "Martinique",
          "Serbia",
          "Serbia-Montenegro",
          "East Timor",
          "Botswana",
          "Eritrea",
          "Czechoslovakia",
          "Guinea-Bissau",
          "Gabon",
          "Lithuania",
          "Benin",
          "Belize",
          "Qatar",
          "Singapore",
          "French Guiana",
          "Romania",
          "Bhutan",
          "North Yemen",
          "Slovenia",
          "Brunei",
          "Grenada",
          "Bahamas",
          "Montenegro",
          "Western Sahara",
          "Comoros",
          "Malawi",
          "People's Republic of the Congo",
          "Iceland",
          "Solomon Islands",
          "Gambia",
          "Dominica",
          "French Polynesia",
          "Barbados",
          "Vanuatu",
          "Turkmenistan",
          "Seychelles",
          "Mauritius",
          "St. Kitts and Nevis",
          "Equatorial Guinea",
          "South Yemen",
          "Vatican City",
          "Falkland Islands",
          "St. Lucia",
          "North Korea",
          "New Hebrides",
          "International",
          "Wallis and Futuna",
          "South Vietnam",
          "Andorra",
          "Antigua and Barbuda"
         ],
         "name": "",
         "z": [
          24636,
          14368,
          12731,
          11960,
          8306,
          6908,
          6096,
          5320,
          5235,
          4292,
          4142,
          3907,
          3849,
          3347,
          3249,
          3022,
          2836,
          2743,
          2693,
          2479,
          2478,
          2365,
          2249,
          2227,
          2201,
          2194,
          2183,
          2050,
          2016,
          1970,
          1709,
          1648,
          1565,
          1275,
          1215,
          967,
          815,
          775,
          761,
          735,
          684,
          683,
          613,
          566,
          546,
          541,
          524,
          499,
          402,
          394,
          371,
          363,
          332,
          323,
          314,
          307,
          293,
          283,
          273,
          259,
          252,
          225,
          220,
          217,
          213,
          207,
          203,
          196,
          190,
          188,
          159,
          159,
          154,
          154,
          151,
          140,
          132,
          132,
          130,
          127,
          118,
          118,
          115,
          114,
          114,
          113,
          111,
          109,
          101,
          101,
          99,
          96,
          91,
          90,
          89,
          83,
          82,
          80,
          78,
          76,
          74,
          67,
          66,
          62,
          59,
          57,
          56,
          52,
          52,
          50,
          50,
          49,
          48,
          46,
          41,
          39,
          38,
          38,
          36,
          36,
          36,
          35,
          34,
          33,
          32,
          31,
          30,
          29,
          27,
          27,
          27,
          26,
          26,
          25,
          24,
          23,
          22,
          22,
          22,
          22,
          21,
          21,
          20,
          20,
          19,
          19,
          18,
          18,
          17,
          17,
          16,
          16,
          16,
          13,
          12,
          12,
          12,
          11,
          10,
          10,
          10,
          10,
          9,
          8,
          8,
          8,
          8,
          7,
          7,
          7,
          6,
          6,
          6,
          6,
          6,
          5,
          5,
          5,
          5,
          5,
          5,
          4,
          4,
          4,
          3,
          3,
          3,
          3,
          2,
          2,
          2,
          2,
          2,
          2,
          2,
          1,
          1,
          1,
          1,
          1,
          1,
          1,
          1,
          1,
          1
         ],
         "type": "choropleth"
        }
       ],
       "layout": {
        "template": {
         "data": {
          "histogram2dcontour": [
           {
            "type": "histogram2dcontour",
            "colorbar": {
             "outlinewidth": 0,
             "ticks": ""
            },
            "colorscale": [
             [
              0.0,
              "#0d0887"
             ],
             [
              0.1111111111111111,
              "#46039f"
             ],
             [
              0.2222222222222222,
              "#7201a8"
             ],
             [
              0.3333333333333333,
              "#9c179e"
             ],
             [
              0.4444444444444444,
              "#bd3786"
             ],
             [
              0.5555555555555556,
              "#d8576b"
             ],
             [
              0.6666666666666666,
              "#ed7953"
             ],
             [
              0.7777777777777778,
              "#fb9f3a"
             ],
             [
              0.8888888888888888,
              "#fdca26"
             ],
             [
              1.0,
              "#f0f921"
             ]
            ]
           }
          ],
          "choropleth": [
           {
            "type": "choropleth",
            "colorbar": {
             "outlinewidth": 0,
             "ticks": ""
            }
           }
          ],
          "histogram2d": [
           {
            "type": "histogram2d",
            "colorbar": {
             "outlinewidth": 0,
             "ticks": ""
            },
            "colorscale": [
             [
              0.0,
              "#0d0887"
             ],
             [
              0.1111111111111111,
              "#46039f"
             ],
             [
              0.2222222222222222,
              "#7201a8"
             ],
             [
              0.3333333333333333,
              "#9c179e"
             ],
             [
              0.4444444444444444,
              "#bd3786"
             ],
             [
              0.5555555555555556,
              "#d8576b"
             ],
             [
              0.6666666666666666,
              "#ed7953"
             ],
             [
              0.7777777777777778,
              "#fb9f3a"
             ],
             [
              0.8888888888888888,
              "#fdca26"
             ],
             [
              1.0,
              "#f0f921"
             ]
            ]
           }
          ],
          "heatmap": [
           {
            "type": "heatmap",
            "colorbar": {
             "outlinewidth": 0,
             "ticks": ""
            },
            "colorscale": [
             [
              0.0,
              "#0d0887"
             ],
             [
              0.1111111111111111,
              "#46039f"
             ],
             [
              0.2222222222222222,
              "#7201a8"
             ],
             [
              0.3333333333333333,
              "#9c179e"
             ],
             [
              0.4444444444444444,
              "#bd3786"
             ],
             [
              0.5555555555555556,
              "#d8576b"
             ],
             [
              0.6666666666666666,
              "#ed7953"
             ],
             [
              0.7777777777777778,
              "#fb9f3a"
             ],
             [
              0.8888888888888888,
              "#fdca26"
             ],
             [
              1.0,
              "#f0f921"
             ]
            ]
           }
          ],
          "heatmapgl": [
           {
            "type": "heatmapgl",
            "colorbar": {
             "outlinewidth": 0,
             "ticks": ""
            },
            "colorscale": [
             [
              0.0,
              "#0d0887"
             ],
             [
              0.1111111111111111,
              "#46039f"
             ],
             [
              0.2222222222222222,
              "#7201a8"
             ],
             [
              0.3333333333333333,
              "#9c179e"
             ],
             [
              0.4444444444444444,
              "#bd3786"
             ],
             [
              0.5555555555555556,
              "#d8576b"
             ],
             [
              0.6666666666666666,
              "#ed7953"
             ],
             [
              0.7777777777777778,
              "#fb9f3a"
             ],
             [
              0.8888888888888888,
              "#fdca26"
             ],
             [
              1.0,
              "#f0f921"
             ]
            ]
           }
          ],
          "contourcarpet": [
           {
            "type": "contourcarpet",
            "colorbar": {
             "outlinewidth": 0,
             "ticks": ""
            }
           }
          ],
          "contour": [
           {
            "type": "contour",
            "colorbar": {
             "outlinewidth": 0,
             "ticks": ""
            },
            "colorscale": [
             [
              0.0,
              "#0d0887"
             ],
             [
              0.1111111111111111,
              "#46039f"
             ],
             [
              0.2222222222222222,
              "#7201a8"
             ],
             [
              0.3333333333333333,
              "#9c179e"
             ],
             [
              0.4444444444444444,
              "#bd3786"
             ],
             [
              0.5555555555555556,
              "#d8576b"
             ],
             [
              0.6666666666666666,
              "#ed7953"
             ],
             [
              0.7777777777777778,
              "#fb9f3a"
             ],
             [
              0.8888888888888888,
              "#fdca26"
             ],
             [
              1.0,
              "#f0f921"
             ]
            ]
           }
          ],
          "surface": [
           {
            "type": "surface",
            "colorbar": {
             "outlinewidth": 0,
             "ticks": ""
            },
            "colorscale": [
             [
              0.0,
              "#0d0887"
             ],
             [
              0.1111111111111111,
              "#46039f"
             ],
             [
              0.2222222222222222,
              "#7201a8"
             ],
             [
              0.3333333333333333,
              "#9c179e"
             ],
             [
              0.4444444444444444,
              "#bd3786"
             ],
             [
              0.5555555555555556,
              "#d8576b"
             ],
             [
              0.6666666666666666,
              "#ed7953"
             ],
             [
              0.7777777777777778,
              "#fb9f3a"
             ],
             [
              0.8888888888888888,
              "#fdca26"
             ],
             [
              1.0,
              "#f0f921"
             ]
            ]
           }
          ],
          "mesh3d": [
           {
            "type": "mesh3d",
            "colorbar": {
             "outlinewidth": 0,
             "ticks": ""
            }
           }
          ],
          "scatter": [
           {
            "fillpattern": {
             "fillmode": "overlay",
             "size": 10,
             "solidity": 0.2
            },
            "type": "scatter"
           }
          ],
          "parcoords": [
           {
            "type": "parcoords",
            "line": {
             "colorbar": {
              "outlinewidth": 0,
              "ticks": ""
             }
            }
           }
          ],
          "scatterpolargl": [
           {
            "type": "scatterpolargl",
            "marker": {
             "colorbar": {
              "outlinewidth": 0,
              "ticks": ""
             }
            }
           }
          ],
          "bar": [
           {
            "error_x": {
             "color": "#2a3f5f"
            },
            "error_y": {
             "color": "#2a3f5f"
            },
            "marker": {
             "line": {
              "color": "#E5ECF6",
              "width": 0.5
             },
             "pattern": {
              "fillmode": "overlay",
              "size": 10,
              "solidity": 0.2
             }
            },
            "type": "bar"
           }
          ],
          "scattergeo": [
           {
            "type": "scattergeo",
            "marker": {
             "colorbar": {
              "outlinewidth": 0,
              "ticks": ""
             }
            }
           }
          ],
          "scatterpolar": [
           {
            "type": "scatterpolar",
            "marker": {
             "colorbar": {
              "outlinewidth": 0,
              "ticks": ""
             }
            }
           }
          ],
          "histogram": [
           {
            "marker": {
             "pattern": {
              "fillmode": "overlay",
              "size": 10,
              "solidity": 0.2
             }
            },
            "type": "histogram"
           }
          ],
          "scattergl": [
           {
            "type": "scattergl",
            "marker": {
             "colorbar": {
              "outlinewidth": 0,
              "ticks": ""
             }
            }
           }
          ],
          "scatter3d": [
           {
            "type": "scatter3d",
            "line": {
             "colorbar": {
              "outlinewidth": 0,
              "ticks": ""
             }
            },
            "marker": {
             "colorbar": {
              "outlinewidth": 0,
              "ticks": ""
             }
            }
           }
          ],
          "scattermapbox": [
           {
            "type": "scattermapbox",
            "marker": {
             "colorbar": {
              "outlinewidth": 0,
              "ticks": ""
             }
            }
           }
          ],
          "scatterternary": [
           {
            "type": "scatterternary",
            "marker": {
             "colorbar": {
              "outlinewidth": 0,
              "ticks": ""
             }
            }
           }
          ],
          "scattercarpet": [
           {
            "type": "scattercarpet",
            "marker": {
             "colorbar": {
              "outlinewidth": 0,
              "ticks": ""
             }
            }
           }
          ],
          "carpet": [
           {
            "aaxis": {
             "endlinecolor": "#2a3f5f",
             "gridcolor": "white",
             "linecolor": "white",
             "minorgridcolor": "white",
             "startlinecolor": "#2a3f5f"
            },
            "baxis": {
             "endlinecolor": "#2a3f5f",
             "gridcolor": "white",
             "linecolor": "white",
             "minorgridcolor": "white",
             "startlinecolor": "#2a3f5f"
            },
            "type": "carpet"
           }
          ],
          "table": [
           {
            "cells": {
             "fill": {
              "color": "#EBF0F8"
             },
             "line": {
              "color": "white"
             }
            },
            "header": {
             "fill": {
              "color": "#C8D4E3"
             },
             "line": {
              "color": "white"
             }
            },
            "type": "table"
           }
          ],
          "barpolar": [
           {
            "marker": {
             "line": {
              "color": "#E5ECF6",
              "width": 0.5
             },
             "pattern": {
              "fillmode": "overlay",
              "size": 10,
              "solidity": 0.2
             }
            },
            "type": "barpolar"
           }
          ],
          "pie": [
           {
            "automargin": true,
            "type": "pie"
           }
          ]
         },
         "layout": {
          "autotypenumbers": "strict",
          "colorway": [
           "#636efa",
           "#EF553B",
           "#00cc96",
           "#ab63fa",
           "#FFA15A",
           "#19d3f3",
           "#FF6692",
           "#B6E880",
           "#FF97FF",
           "#FECB52"
          ],
          "font": {
           "color": "#2a3f5f"
          },
          "hovermode": "closest",
          "hoverlabel": {
           "align": "left"
          },
          "paper_bgcolor": "white",
          "plot_bgcolor": "#E5ECF6",
          "polar": {
           "bgcolor": "#E5ECF6",
           "angularaxis": {
            "gridcolor": "white",
            "linecolor": "white",
            "ticks": ""
           },
           "radialaxis": {
            "gridcolor": "white",
            "linecolor": "white",
            "ticks": ""
           }
          },
          "ternary": {
           "bgcolor": "#E5ECF6",
           "aaxis": {
            "gridcolor": "white",
            "linecolor": "white",
            "ticks": ""
           },
           "baxis": {
            "gridcolor": "white",
            "linecolor": "white",
            "ticks": ""
           },
           "caxis": {
            "gridcolor": "white",
            "linecolor": "white",
            "ticks": ""
           }
          },
          "coloraxis": {
           "colorbar": {
            "outlinewidth": 0,
            "ticks": ""
           }
          },
          "colorscale": {
           "sequential": [
            [
             0.0,
             "#0d0887"
            ],
            [
             0.1111111111111111,
             "#46039f"
            ],
            [
             0.2222222222222222,
             "#7201a8"
            ],
            [
             0.3333333333333333,
             "#9c179e"
            ],
            [
             0.4444444444444444,
             "#bd3786"
            ],
            [
             0.5555555555555556,
             "#d8576b"
            ],
            [
             0.6666666666666666,
             "#ed7953"
            ],
            [
             0.7777777777777778,
             "#fb9f3a"
            ],
            [
             0.8888888888888888,
             "#fdca26"
            ],
            [
             1.0,
             "#f0f921"
            ]
           ],
           "sequentialminus": [
            [
             0.0,
             "#0d0887"
            ],
            [
             0.1111111111111111,
             "#46039f"
            ],
            [
             0.2222222222222222,
             "#7201a8"
            ],
            [
             0.3333333333333333,
             "#9c179e"
            ],
            [
             0.4444444444444444,
             "#bd3786"
            ],
            [
             0.5555555555555556,
             "#d8576b"
            ],
            [
             0.6666666666666666,
             "#ed7953"
            ],
            [
             0.7777777777777778,
             "#fb9f3a"
            ],
            [
             0.8888888888888888,
             "#fdca26"
            ],
            [
             1.0,
             "#f0f921"
            ]
           ],
           "diverging": [
            [
             0,
             "#8e0152"
            ],
            [
             0.1,
             "#c51b7d"
            ],
            [
             0.2,
             "#de77ae"
            ],
            [
             0.3,
             "#f1b6da"
            ],
            [
             0.4,
             "#fde0ef"
            ],
            [
             0.5,
             "#f7f7f7"
            ],
            [
             0.6,
             "#e6f5d0"
            ],
            [
             0.7,
             "#b8e186"
            ],
            [
             0.8,
             "#7fbc41"
            ],
            [
             0.9,
             "#4d9221"
            ],
            [
             1,
             "#276419"
            ]
           ]
          },
          "xaxis": {
           "gridcolor": "white",
           "linecolor": "white",
           "ticks": "",
           "title": {
            "standoff": 15
           },
           "zerolinecolor": "white",
           "automargin": true,
           "zerolinewidth": 2
          },
          "yaxis": {
           "gridcolor": "white",
           "linecolor": "white",
           "ticks": "",
           "title": {
            "standoff": 15
           },
           "zerolinecolor": "white",
           "automargin": true,
           "zerolinewidth": 2
          },
          "scene": {
           "xaxis": {
            "backgroundcolor": "#E5ECF6",
            "gridcolor": "white",
            "linecolor": "white",
            "showbackground": true,
            "ticks": "",
            "zerolinecolor": "white",
            "gridwidth": 2
           },
           "yaxis": {
            "backgroundcolor": "#E5ECF6",
            "gridcolor": "white",
            "linecolor": "white",
            "showbackground": true,
            "ticks": "",
            "zerolinecolor": "white",
            "gridwidth": 2
           },
           "zaxis": {
            "backgroundcolor": "#E5ECF6",
            "gridcolor": "white",
            "linecolor": "white",
            "showbackground": true,
            "ticks": "",
            "zerolinecolor": "white",
            "gridwidth": 2
           }
          },
          "shapedefaults": {
           "line": {
            "color": "#2a3f5f"
           }
          },
          "annotationdefaults": {
           "arrowcolor": "#2a3f5f",
           "arrowhead": 0,
           "arrowwidth": 1
          },
          "geo": {
           "bgcolor": "white",
           "landcolor": "#E5ECF6",
           "subunitcolor": "white",
           "showland": true,
           "showlakes": true,
           "lakecolor": "white"
          },
          "title": {
           "x": 0.05
          },
          "mapbox": {
           "style": "light"
          }
         }
        },
        "geo": {
         "domain": {
          "x": [
           0.0,
           1.0
          ],
          "y": [
           0.0,
           1.0
          ]
         },
         "projection": {
          "type": "natural earth"
         },
         "center": {},
         "showland": true,
         "landcolor": "white",
         "showocean": true,
         "oceancolor": "lightblue",
         "showcountries": true,
         "countrycolor": "white",
         "showframe": true
        },
        "coloraxis": {
         "colorbar": {
          "title": {
           "text": "Attacks"
          },
          "thicknessmode": "pixels",
          "thickness": 15,
          "ticklen": 3
         },
         "colorscale": [
          [
           0.0,
           "#ffffff"
          ],
          [
           0.005,
           "#fffaf0"
          ],
          [
           0.1,
           "#fee8c8"
          ],
          [
           0.3,
           "#fdd49e"
          ],
          [
           0.5,
           "#fdbb84"
          ],
          [
           0.7,
           "#fc8d59"
          ],
          [
           0.9,
           "#e34a33"
          ],
          [
           1.0,
           "#b30000"
          ]
         ]
        },
        "legend": {
         "tracegroupgap": 0
        },
        "title": {
         "text": "Global Terrorist Attacks by Country (1970–2017)",
         "y": 0.98,
         "x": 0.5,
         "xanchor": "center",
         "yanchor": "top"
        },
        "height": 750,
        "margin": {
         "r": 0,
         "t": 80,
         "l": 0,
         "b": 0
        }
       },
       "config": {
        "plotlyServerURL": "https://plot.ly"
       }
      },
      "text/html": [
       "<div>                            <div id=\"20296a79-d0bc-49cf-a9d7-d0a8b5a64aa4\" class=\"plotly-graph-div\" style=\"height:750px; width:100%;\"></div>            <script type=\"text/javascript\">                require([\"plotly\"], function(Plotly) {                    window.PLOTLYENV=window.PLOTLYENV || {};                                    if (document.getElementById(\"20296a79-d0bc-49cf-a9d7-d0a8b5a64aa4\")) {                    Plotly.newPlot(                        \"20296a79-d0bc-49cf-a9d7-d0a8b5a64aa4\",                        [{\"coloraxis\":\"coloraxis\",\"geo\":\"geo\",\"hovertemplate\":\"country=%{location}\\u003cbr\\u003e# Attacks=%{z}\\u003cextra\\u003e\\u003c\\u002fextra\\u003e\",\"locationmode\":\"country names\",\"locations\":[\"Iraq\",\"Pakistan\",\"Afghanistan\",\"India\",\"Colombia\",\"Philippines\",\"Peru\",\"El Salvador\",\"United Kingdom\",\"Turkey\",\"Somalia\",\"Nigeria\",\"Thailand\",\"Yemen\",\"Spain\",\"Sri Lanka\",\"United States\",\"Algeria\",\"France\",\"Egypt\",\"Lebanon\",\"Chile\",\"Libya\",\"West Bank and Gaza Strip\",\"Syria\",\"Russia\",\"Israel\",\"Guatemala\",\"South Africa\",\"Nicaragua\",\"Ukraine\",\"Bangladesh\",\"Italy\",\"Greece\",\"Nepal\",\"Sudan\",\"Argentina\",\"Democratic Republic of the Congo\",\"Indonesia\",\"Germany\",\"Iran\",\"Kenya\",\"Burundi\",\"Mali\",\"Myanmar\",\"West Germany (FRG)\",\"Mexico\",\"Angola\",\"Japan\",\"Uganda\",\"Saudi Arabia\",\"Mozambique\",\"Cameroon\",\"Honduras\",\"Bolivia\",\"Ireland\",\"Venezuela\",\"Central African Republic\",\"Brazil\",\"Cambodia\",\"China\",\"South Sudan\",\"Ecuador\",\"Georgia\",\"Haiti\",\"Bahrain\",\"Yugoslavia\",\"Kosovo\",\"Ethiopia\",\"Tajikistan\",\"Bosnia-Herzegovina\",\"Rwanda\",\"Niger\",\"Belgium\",\"Namibia\",\"Portugal\",\"Sweden\",\"Cyprus\",\"Netherlands\",\"Panama\",\"Senegal\",\"Macedonia\",\"Austria\",\"Australia\",\"Paraguay\",\"Jordan\",\"Switzerland\",\"Tunisia\",\"Zimbabwe\",\"Sierra Leone\",\"Malaysia\",\"Canada\",\"Chad\",\"Dominican Republic\",\"Papua New Guinea\",\"Rhodesia\",\"Uruguay\",\"Albania\",\"Soviet Union\",\"Kuwait\",\"Ivory Coast\",\"Costa Rica\",\"Suriname\",\"Zambia\",\"Tanzania\",\"Croatia\",\"Guadeloupe\",\"Bulgaria\",\"Burkina Faso\",\"Zaire\",\"Taiwan\",\"Azerbaijan\",\"Togo\",\"Hungary\",\"Denmark\",\"Poland\",\"South Korea\",\"East Germany (GDR)\",\"Morocco\",\"Jamaica\",\"Republic of the Congo\",\"Kyrgyzstan\",\"Liberia\",\"Macau\",\"Czech Republic\",\"New Caledonia\",\"Cuba\",\"Lesotho\",\"Kazakhstan\",\"Madagascar\",\"Laos\",\"Guyana\",\"Hong Kong\",\"Guinea\",\"Armenia\",\"Malta\",\"Maldives\",\"United Arab Emirates\",\"Trinidad and Tobago\",\"Djibouti\",\"Uzbekistan\",\"Moldova\",\"Finland\",\"New Zealand\",\"Ghana\",\"Norway\",\"Mauritania\",\"Slovak Republic\",\"Fiji\",\"Latvia\",\"Swaziland\",\"Estonia\",\"Luxembourg\",\"Belarus\",\"Vietnam\",\"Martinique\",\"Serbia\",\"Serbia-Montenegro\",\"East Timor\",\"Botswana\",\"Eritrea\",\"Czechoslovakia\",\"Guinea-Bissau\",\"Gabon\",\"Lithuania\",\"Benin\",\"Belize\",\"Qatar\",\"Singapore\",\"French Guiana\",\"Romania\",\"Bhutan\",\"North Yemen\",\"Slovenia\",\"Brunei\",\"Grenada\",\"Bahamas\",\"Montenegro\",\"Western Sahara\",\"Comoros\",\"Malawi\",\"People's Republic of the Congo\",\"Iceland\",\"Solomon Islands\",\"Gambia\",\"Dominica\",\"French Polynesia\",\"Barbados\",\"Vanuatu\",\"Turkmenistan\",\"Seychelles\",\"Mauritius\",\"St. Kitts and Nevis\",\"Equatorial Guinea\",\"South Yemen\",\"Vatican City\",\"Falkland Islands\",\"St. Lucia\",\"North Korea\",\"New Hebrides\",\"International\",\"Wallis and Futuna\",\"South Vietnam\",\"Andorra\",\"Antigua and Barbuda\"],\"name\":\"\",\"z\":[24636,14368,12731,11960,8306,6908,6096,5320,5235,4292,4142,3907,3849,3347,3249,3022,2836,2743,2693,2479,2478,2365,2249,2227,2201,2194,2183,2050,2016,1970,1709,1648,1565,1275,1215,967,815,775,761,735,684,683,613,566,546,541,524,499,402,394,371,363,332,323,314,307,293,283,273,259,252,225,220,217,213,207,203,196,190,188,159,159,154,154,151,140,132,132,130,127,118,118,115,114,114,113,111,109,101,101,99,96,91,90,89,83,82,80,78,76,74,67,66,62,59,57,56,52,52,50,50,49,48,46,41,39,38,38,36,36,36,35,34,33,32,31,30,29,27,27,27,26,26,25,24,23,22,22,22,22,21,21,20,20,19,19,18,18,17,17,16,16,16,13,12,12,12,11,10,10,10,10,9,8,8,8,8,7,7,7,6,6,6,6,6,5,5,5,5,5,5,4,4,4,3,3,3,3,2,2,2,2,2,2,2,1,1,1,1,1,1,1,1,1,1],\"type\":\"choropleth\"}],                        {\"template\":{\"data\":{\"histogram2dcontour\":[{\"type\":\"histogram2dcontour\",\"colorbar\":{\"outlinewidth\":0,\"ticks\":\"\"},\"colorscale\":[[0.0,\"#0d0887\"],[0.1111111111111111,\"#46039f\"],[0.2222222222222222,\"#7201a8\"],[0.3333333333333333,\"#9c179e\"],[0.4444444444444444,\"#bd3786\"],[0.5555555555555556,\"#d8576b\"],[0.6666666666666666,\"#ed7953\"],[0.7777777777777778,\"#fb9f3a\"],[0.8888888888888888,\"#fdca26\"],[1.0,\"#f0f921\"]]}],\"choropleth\":[{\"type\":\"choropleth\",\"colorbar\":{\"outlinewidth\":0,\"ticks\":\"\"}}],\"histogram2d\":[{\"type\":\"histogram2d\",\"colorbar\":{\"outlinewidth\":0,\"ticks\":\"\"},\"colorscale\":[[0.0,\"#0d0887\"],[0.1111111111111111,\"#46039f\"],[0.2222222222222222,\"#7201a8\"],[0.3333333333333333,\"#9c179e\"],[0.4444444444444444,\"#bd3786\"],[0.5555555555555556,\"#d8576b\"],[0.6666666666666666,\"#ed7953\"],[0.7777777777777778,\"#fb9f3a\"],[0.8888888888888888,\"#fdca26\"],[1.0,\"#f0f921\"]]}],\"heatmap\":[{\"type\":\"heatmap\",\"colorbar\":{\"outlinewidth\":0,\"ticks\":\"\"},\"colorscale\":[[0.0,\"#0d0887\"],[0.1111111111111111,\"#46039f\"],[0.2222222222222222,\"#7201a8\"],[0.3333333333333333,\"#9c179e\"],[0.4444444444444444,\"#bd3786\"],[0.5555555555555556,\"#d8576b\"],[0.6666666666666666,\"#ed7953\"],[0.7777777777777778,\"#fb9f3a\"],[0.8888888888888888,\"#fdca26\"],[1.0,\"#f0f921\"]]}],\"heatmapgl\":[{\"type\":\"heatmapgl\",\"colorbar\":{\"outlinewidth\":0,\"ticks\":\"\"},\"colorscale\":[[0.0,\"#0d0887\"],[0.1111111111111111,\"#46039f\"],[0.2222222222222222,\"#7201a8\"],[0.3333333333333333,\"#9c179e\"],[0.4444444444444444,\"#bd3786\"],[0.5555555555555556,\"#d8576b\"],[0.6666666666666666,\"#ed7953\"],[0.7777777777777778,\"#fb9f3a\"],[0.8888888888888888,\"#fdca26\"],[1.0,\"#f0f921\"]]}],\"contourcarpet\":[{\"type\":\"contourcarpet\",\"colorbar\":{\"outlinewidth\":0,\"ticks\":\"\"}}],\"contour\":[{\"type\":\"contour\",\"colorbar\":{\"outlinewidth\":0,\"ticks\":\"\"},\"colorscale\":[[0.0,\"#0d0887\"],[0.1111111111111111,\"#46039f\"],[0.2222222222222222,\"#7201a8\"],[0.3333333333333333,\"#9c179e\"],[0.4444444444444444,\"#bd3786\"],[0.5555555555555556,\"#d8576b\"],[0.6666666666666666,\"#ed7953\"],[0.7777777777777778,\"#fb9f3a\"],[0.8888888888888888,\"#fdca26\"],[1.0,\"#f0f921\"]]}],\"surface\":[{\"type\":\"surface\",\"colorbar\":{\"outlinewidth\":0,\"ticks\":\"\"},\"colorscale\":[[0.0,\"#0d0887\"],[0.1111111111111111,\"#46039f\"],[0.2222222222222222,\"#7201a8\"],[0.3333333333333333,\"#9c179e\"],[0.4444444444444444,\"#bd3786\"],[0.5555555555555556,\"#d8576b\"],[0.6666666666666666,\"#ed7953\"],[0.7777777777777778,\"#fb9f3a\"],[0.8888888888888888,\"#fdca26\"],[1.0,\"#f0f921\"]]}],\"mesh3d\":[{\"type\":\"mesh3d\",\"colorbar\":{\"outlinewidth\":0,\"ticks\":\"\"}}],\"scatter\":[{\"fillpattern\":{\"fillmode\":\"overlay\",\"size\":10,\"solidity\":0.2},\"type\":\"scatter\"}],\"parcoords\":[{\"type\":\"parcoords\",\"line\":{\"colorbar\":{\"outlinewidth\":0,\"ticks\":\"\"}}}],\"scatterpolargl\":[{\"type\":\"scatterpolargl\",\"marker\":{\"colorbar\":{\"outlinewidth\":0,\"ticks\":\"\"}}}],\"bar\":[{\"error_x\":{\"color\":\"#2a3f5f\"},\"error_y\":{\"color\":\"#2a3f5f\"},\"marker\":{\"line\":{\"color\":\"#E5ECF6\",\"width\":0.5},\"pattern\":{\"fillmode\":\"overlay\",\"size\":10,\"solidity\":0.2}},\"type\":\"bar\"}],\"scattergeo\":[{\"type\":\"scattergeo\",\"marker\":{\"colorbar\":{\"outlinewidth\":0,\"ticks\":\"\"}}}],\"scatterpolar\":[{\"type\":\"scatterpolar\",\"marker\":{\"colorbar\":{\"outlinewidth\":0,\"ticks\":\"\"}}}],\"histogram\":[{\"marker\":{\"pattern\":{\"fillmode\":\"overlay\",\"size\":10,\"solidity\":0.2}},\"type\":\"histogram\"}],\"scattergl\":[{\"type\":\"scattergl\",\"marker\":{\"colorbar\":{\"outlinewidth\":0,\"ticks\":\"\"}}}],\"scatter3d\":[{\"type\":\"scatter3d\",\"line\":{\"colorbar\":{\"outlinewidth\":0,\"ticks\":\"\"}},\"marker\":{\"colorbar\":{\"outlinewidth\":0,\"ticks\":\"\"}}}],\"scattermapbox\":[{\"type\":\"scattermapbox\",\"marker\":{\"colorbar\":{\"outlinewidth\":0,\"ticks\":\"\"}}}],\"scatterternary\":[{\"type\":\"scatterternary\",\"marker\":{\"colorbar\":{\"outlinewidth\":0,\"ticks\":\"\"}}}],\"scattercarpet\":[{\"type\":\"scattercarpet\",\"marker\":{\"colorbar\":{\"outlinewidth\":0,\"ticks\":\"\"}}}],\"carpet\":[{\"aaxis\":{\"endlinecolor\":\"#2a3f5f\",\"gridcolor\":\"white\",\"linecolor\":\"white\",\"minorgridcolor\":\"white\",\"startlinecolor\":\"#2a3f5f\"},\"baxis\":{\"endlinecolor\":\"#2a3f5f\",\"gridcolor\":\"white\",\"linecolor\":\"white\",\"minorgridcolor\":\"white\",\"startlinecolor\":\"#2a3f5f\"},\"type\":\"carpet\"}],\"table\":[{\"cells\":{\"fill\":{\"color\":\"#EBF0F8\"},\"line\":{\"color\":\"white\"}},\"header\":{\"fill\":{\"color\":\"#C8D4E3\"},\"line\":{\"color\":\"white\"}},\"type\":\"table\"}],\"barpolar\":[{\"marker\":{\"line\":{\"color\":\"#E5ECF6\",\"width\":0.5},\"pattern\":{\"fillmode\":\"overlay\",\"size\":10,\"solidity\":0.2}},\"type\":\"barpolar\"}],\"pie\":[{\"automargin\":true,\"type\":\"pie\"}]},\"layout\":{\"autotypenumbers\":\"strict\",\"colorway\":[\"#636efa\",\"#EF553B\",\"#00cc96\",\"#ab63fa\",\"#FFA15A\",\"#19d3f3\",\"#FF6692\",\"#B6E880\",\"#FF97FF\",\"#FECB52\"],\"font\":{\"color\":\"#2a3f5f\"},\"hovermode\":\"closest\",\"hoverlabel\":{\"align\":\"left\"},\"paper_bgcolor\":\"white\",\"plot_bgcolor\":\"#E5ECF6\",\"polar\":{\"bgcolor\":\"#E5ECF6\",\"angularaxis\":{\"gridcolor\":\"white\",\"linecolor\":\"white\",\"ticks\":\"\"},\"radialaxis\":{\"gridcolor\":\"white\",\"linecolor\":\"white\",\"ticks\":\"\"}},\"ternary\":{\"bgcolor\":\"#E5ECF6\",\"aaxis\":{\"gridcolor\":\"white\",\"linecolor\":\"white\",\"ticks\":\"\"},\"baxis\":{\"gridcolor\":\"white\",\"linecolor\":\"white\",\"ticks\":\"\"},\"caxis\":{\"gridcolor\":\"white\",\"linecolor\":\"white\",\"ticks\":\"\"}},\"coloraxis\":{\"colorbar\":{\"outlinewidth\":0,\"ticks\":\"\"}},\"colorscale\":{\"sequential\":[[0.0,\"#0d0887\"],[0.1111111111111111,\"#46039f\"],[0.2222222222222222,\"#7201a8\"],[0.3333333333333333,\"#9c179e\"],[0.4444444444444444,\"#bd3786\"],[0.5555555555555556,\"#d8576b\"],[0.6666666666666666,\"#ed7953\"],[0.7777777777777778,\"#fb9f3a\"],[0.8888888888888888,\"#fdca26\"],[1.0,\"#f0f921\"]],\"sequentialminus\":[[0.0,\"#0d0887\"],[0.1111111111111111,\"#46039f\"],[0.2222222222222222,\"#7201a8\"],[0.3333333333333333,\"#9c179e\"],[0.4444444444444444,\"#bd3786\"],[0.5555555555555556,\"#d8576b\"],[0.6666666666666666,\"#ed7953\"],[0.7777777777777778,\"#fb9f3a\"],[0.8888888888888888,\"#fdca26\"],[1.0,\"#f0f921\"]],\"diverging\":[[0,\"#8e0152\"],[0.1,\"#c51b7d\"],[0.2,\"#de77ae\"],[0.3,\"#f1b6da\"],[0.4,\"#fde0ef\"],[0.5,\"#f7f7f7\"],[0.6,\"#e6f5d0\"],[0.7,\"#b8e186\"],[0.8,\"#7fbc41\"],[0.9,\"#4d9221\"],[1,\"#276419\"]]},\"xaxis\":{\"gridcolor\":\"white\",\"linecolor\":\"white\",\"ticks\":\"\",\"title\":{\"standoff\":15},\"zerolinecolor\":\"white\",\"automargin\":true,\"zerolinewidth\":2},\"yaxis\":{\"gridcolor\":\"white\",\"linecolor\":\"white\",\"ticks\":\"\",\"title\":{\"standoff\":15},\"zerolinecolor\":\"white\",\"automargin\":true,\"zerolinewidth\":2},\"scene\":{\"xaxis\":{\"backgroundcolor\":\"#E5ECF6\",\"gridcolor\":\"white\",\"linecolor\":\"white\",\"showbackground\":true,\"ticks\":\"\",\"zerolinecolor\":\"white\",\"gridwidth\":2},\"yaxis\":{\"backgroundcolor\":\"#E5ECF6\",\"gridcolor\":\"white\",\"linecolor\":\"white\",\"showbackground\":true,\"ticks\":\"\",\"zerolinecolor\":\"white\",\"gridwidth\":2},\"zaxis\":{\"backgroundcolor\":\"#E5ECF6\",\"gridcolor\":\"white\",\"linecolor\":\"white\",\"showbackground\":true,\"ticks\":\"\",\"zerolinecolor\":\"white\",\"gridwidth\":2}},\"shapedefaults\":{\"line\":{\"color\":\"#2a3f5f\"}},\"annotationdefaults\":{\"arrowcolor\":\"#2a3f5f\",\"arrowhead\":0,\"arrowwidth\":1},\"geo\":{\"bgcolor\":\"white\",\"landcolor\":\"#E5ECF6\",\"subunitcolor\":\"white\",\"showland\":true,\"showlakes\":true,\"lakecolor\":\"white\"},\"title\":{\"x\":0.05},\"mapbox\":{\"style\":\"light\"}}},\"geo\":{\"domain\":{\"x\":[0.0,1.0],\"y\":[0.0,1.0]},\"projection\":{\"type\":\"natural earth\"},\"center\":{},\"showland\":true,\"landcolor\":\"white\",\"showocean\":true,\"oceancolor\":\"lightblue\",\"showcountries\":true,\"countrycolor\":\"white\",\"showframe\":true},\"coloraxis\":{\"colorbar\":{\"title\":{\"text\":\"Attacks\"},\"thicknessmode\":\"pixels\",\"thickness\":15,\"ticklen\":3},\"colorscale\":[[0.0,\"#ffffff\"],[0.005,\"#fffaf0\"],[0.1,\"#fee8c8\"],[0.3,\"#fdd49e\"],[0.5,\"#fdbb84\"],[0.7,\"#fc8d59\"],[0.9,\"#e34a33\"],[1.0,\"#b30000\"]]},\"legend\":{\"tracegroupgap\":0},\"title\":{\"text\":\"Global Terrorist Attacks by Country (1970–2017)\",\"y\":0.98,\"x\":0.5,\"xanchor\":\"center\",\"yanchor\":\"top\"},\"height\":750,\"margin\":{\"r\":0,\"t\":80,\"l\":0,\"b\":0}},                        {\"responsive\": true}                    ).then(function(){\n",
       "                            \n",
       "var gd = document.getElementById('20296a79-d0bc-49cf-a9d7-d0a8b5a64aa4');\n",
       "var x = new MutationObserver(function (mutations, observer) {{\n",
       "        var display = window.getComputedStyle(gd).display;\n",
       "        if (!display || display === 'none') {{\n",
       "            console.log([gd, 'removed!']);\n",
       "            Plotly.purge(gd);\n",
       "            observer.disconnect();\n",
       "        }}\n",
       "}});\n",
       "\n",
       "// Listen for the removal of the full notebook cells\n",
       "var notebookContainer = gd.closest('#notebook-container');\n",
       "if (notebookContainer) {{\n",
       "    x.observe(notebookContainer, {childList: true});\n",
       "}}\n",
       "\n",
       "// Listen for the clearing of the current output cell\n",
       "var outputEl = gd.closest('.output');\n",
       "if (outputEl) {{\n",
       "    x.observe(outputEl, {childList: true});\n",
       "}}\n",
       "\n",
       "                        })                };                });            </script>        </div>"
      ]
     },
     "metadata": {},
     "output_type": "display_data"
    }
   ],
   "execution_count": 13
  },
  {
   "metadata": {},
   "cell_type": "markdown",
   "source": "### Top 10 Terrorist Groups by Number of Attacks",
   "id": "e4e250b12153e8c"
  },
  {
   "metadata": {
    "ExecuteTime": {
     "end_time": "2025-06-01T15:39:44.384840Z",
     "start_time": "2025-06-01T15:39:44.159802Z"
    }
   },
   "cell_type": "code",
   "outputs": [
    {
     "data": {
      "text/plain": [
       "<Figure size 800x500 with 1 Axes>"
      ],
      "image/png": "[encoded data removed]"
     },
     "metadata": {},
     "output_type": "display_data"
    }
   ],
   "execution_count": 8,
   "source": [
    "top_groups = df['gname'].value_counts().drop('Unknown').head(10)\n",
    "plt.figure(figsize=(8, 5))\n",
    "top_groups.plot(kind='barh')\n",
    "plt.title('Top 10 Terrorist Groups by Number of Attacks')\n",
    "plt.xlabel('Attack Count')\n",
    "plt.gca().invert_yaxis()\n",
    "plt.tight_layout()\n",
    "plt.show()"
   ],
   "id": "5ffb048e13f451b6"
  },
  {
   "metadata": {},
   "cell_type": "markdown",
   "source": "### Attacks per Year for Top 5 Terrorist Groups",
   "id": "e5f0f74261756f06"
  },
  {
   "metadata": {
    "ExecuteTime": {
     "end_time": "2025-06-01T15:39:44.896743Z",
     "start_time": "2025-06-01T15:39:44.762230Z"
    }
   },
   "cell_type": "code",
   "source": [
    "import plotly.express as px\n",
    "\n",
    "# 1. Filter to top-5 groups (drop “Unknown”)\n",
    "top5 = df['gname'].value_counts().drop('Unknown').head(5).index\n",
    "df_top5 = df[df['gname'].isin(top5)]\n",
    "\n",
    "# 2. Aggregate counts by group, year, and region\n",
    "group_year = (\n",
    "    df_top5\n",
    "    .groupby(['gname', 'iyear', 'region_txt'])\n",
    "    .size()\n",
    "    .reset_index(name='count')\n",
    ")\n",
    "\n",
    "# 3. Bubble plot\n",
    "fig = px.scatter(\n",
    "    group_year,\n",
    "    x='iyear',\n",
    "    y='gname',\n",
    "    size='count',\n",
    "    color='region_txt',\n",
    "    color_discrete_sequence=px.colors.qualitative.Safe,\n",
    "    labels={\n",
    "        'iyear': 'Year',\n",
    "        'gname': 'Terrorist Group',\n",
    "        'region_txt': 'Region',\n",
    "        'count': '# Attacks'\n",
    "    },\n",
    "    height=600\n",
    ")\n",
    "\n",
    "# 4. Layout tweaks for title and legend\n",
    "fig.update_layout(\n",
    "    title={\n",
    "        'text': 'Attacks Over Time & Region for Top 5 Terrorist Groups',\n",
    "        'y': 0.98,\n",
    "        'x': 0.5,\n",
    "        'xanchor': 'center',\n",
    "        'yanchor': 'top'\n",
    "    },\n",
    "    margin=dict(l=120, r=20, t=80, b=40),\n",
    "    legend=dict(\n",
    "        title='Region',\n",
    "        orientation='h',\n",
    "        yanchor='bottom',\n",
    "        y=1.02,\n",
    "        xanchor='right',\n",
    "        x=1\n",
    "    )\n",
    ")\n",
    "\n",
    "fig.update_xaxes(dtick=5)\n",
    "\n",
    "fig.show()"
   ],
   "id": "9d3ac82db1c6098",
   "outputs": [
    {
     "data": {
      "application/vnd.plotly.v1+json": {
       "data": [
        {
         "hovertemplate": "Region=Sub-Saharan Africa<br>Year=%{x}<br>Terrorist Group=%{y}<br># Attacks=%{marker.size}<extra></extra>",
         "legendgroup": "Sub-Saharan Africa",
         "marker": {
          "color": "rgb(136, 204, 238)",
          "size": [
           6,
           26,
           57,
           72,
           164,
           236,
           325,
           871,
           397,
           564,
           570,
           1
          ],
          "sizemode": "area",
          "sizeref": 3.595,
          "symbol": "circle"
         },
         "mode": "markers",
         "name": "Sub-Saharan Africa",
         "orientation": "h",
         "showlegend": true,
         "x": [
          2007,
          2008,
          2009,
          2010,
          2011,
          2012,
          2013,
          2014,
          2015,
          2016,
          2017,
          2015
         ],
         "xaxis": "x",
         "y": [
          "Al-Shabaab",
          "Al-Shabaab",
          "Al-Shabaab",
          "Al-Shabaab",
          "Al-Shabaab",
          "Al-Shabaab",
          "Al-Shabaab",
          "Al-Shabaab",
          "Al-Shabaab",
          "Al-Shabaab",
          "Al-Shabaab",
          "Islamic State of Iraq and the Levant (ISIL)"
         ],
         "yaxis": "y",
         "type": "scatter"
        },
        {
         "hovertemplate": "Region=Central America & Caribbean<br>Year=%{x}<br>Terrorist Group=%{y}<br># Attacks=%{marker.size}<extra></extra>",
         "legendgroup": "Central America & Caribbean",
         "marker": {
          "color": "rgb(204, 102, 119)",
          "size": [
           1,
           159,
           160,
           284,
           320,
           254,
           422,
           174,
           209,
           351,
           335,
           181,
           492,
           8,
           1
          ],
          "sizemode": "area",
          "sizeref": 3.595,
          "symbol": "circle"
         },
         "mode": "markers",
         "name": "Central America & Caribbean",
         "orientation": "h",
         "showlegend": true,
         "x": [
          1978,
          1980,
          1981,
          1982,
          1983,
          1984,
          1985,
          1986,
          1987,
          1988,
          1989,
          1990,
          1991,
          1992,
          1994
         ],
         "xaxis": "x",
         "y": [
          "Farabundo Marti National Liberation Front (FMLN)",
          "Farabundo Marti National Liberation Front (FMLN)",
          "Farabundo Marti National Liberation Front (FMLN)",
          "Farabundo Marti National Liberation Front (FMLN)",
          "Farabundo Marti National Liberation Front (FMLN)",
          "Farabundo Marti National Liberation Front (FMLN)",
          "Farabundo Marti National Liberation Front (FMLN)",
          "Farabundo Marti National Liberation Front (FMLN)",
          "Farabundo Marti National Liberation Front (FMLN)",
          "Farabundo Marti National Liberation Front (FMLN)",
          "Farabundo Marti National Liberation Front (FMLN)",
          "Farabundo Marti National Liberation Front (FMLN)",
          "Farabundo Marti National Liberation Front (FMLN)",
          "Farabundo Marti National Liberation Front (FMLN)",
          "Farabundo Marti National Liberation Front (FMLN)"
         ],
         "yaxis": "y",
         "type": "scatter"
        },
        {
         "hovertemplate": "Region=Middle East & North Africa<br>Year=%{x}<br>Terrorist Group=%{y}<br># Attacks=%{marker.size}<extra></extra>",
         "legendgroup": "Middle East & North Africa",
         "marker": {
          "color": "rgb(221, 204, 119)",
          "size": [
           374,
           1248,
           1211,
           1438,
           1292
          ],
          "sizemode": "area",
          "sizeref": 3.595,
          "symbol": "circle"
         },
         "mode": "markers",
         "name": "Middle East & North Africa",
         "orientation": "h",
         "showlegend": true,
         "x": [
          2013,
          2014,
          2015,
          2016,
          2017
         ],
         "xaxis": "x",
         "y": [
          "Islamic State of Iraq and the Levant (ISIL)",
          "Islamic State of Iraq and the Levant (ISIL)",
          "Islamic State of Iraq and the Levant (ISIL)",
          "Islamic State of Iraq and the Levant (ISIL)",
          "Islamic State of Iraq and the Levant (ISIL)"
         ],
         "yaxis": "y",
         "type": "scatter"
        },
        {
         "hovertemplate": "Region=Western Europe<br>Year=%{x}<br>Terrorist Group=%{y}<br># Attacks=%{marker.size}<extra></extra>",
         "legendgroup": "Western Europe",
         "marker": {
          "color": "rgb(17, 119, 51)",
          "size": [
           1,
           9,
           3,
           2
          ],
          "sizemode": "area",
          "sizeref": 3.595,
          "symbol": "circle"
         },
         "mode": "markers",
         "name": "Western Europe",
         "orientation": "h",
         "showlegend": true,
         "x": [
          2014,
          2015,
          2016,
          2017
         ],
         "xaxis": "x",
         "y": [
          "Islamic State of Iraq and the Levant (ISIL)",
          "Islamic State of Iraq and the Levant (ISIL)",
          "Islamic State of Iraq and the Levant (ISIL)",
          "Islamic State of Iraq and the Levant (ISIL)"
         ],
         "yaxis": "y",
         "type": "scatter"
        },
        {
         "hovertemplate": "Region=Central Asia<br>Year=%{x}<br>Terrorist Group=%{y}<br># Attacks=%{marker.size}<extra></extra>",
         "legendgroup": "Central Asia",
         "marker": {
          "color": "rgb(51, 34, 136)",
          "size": [
           1,
           1
          ],
          "sizemode": "area",
          "sizeref": 3.595,
          "symbol": "circle"
         },
         "mode": "markers",
         "name": "Central Asia",
         "orientation": "h",
         "showlegend": true,
         "x": [
          2016,
          2014
         ],
         "xaxis": "x",
         "y": [
          "Islamic State of Iraq and the Levant (ISIL)",
          "Taliban"
         ],
         "yaxis": "y",
         "type": "scatter"
        },
        {
         "hovertemplate": "Region=Eastern Europe<br>Year=%{x}<br>Terrorist Group=%{y}<br># Attacks=%{marker.size}<extra></extra>",
         "legendgroup": "Eastern Europe",
         "marker": {
          "color": "rgb(170, 68, 153)",
          "size": [
           2,
           2
          ],
          "sizemode": "area",
          "sizeref": 3.595,
          "symbol": "circle"
         },
         "mode": "markers",
         "name": "Eastern Europe",
         "orientation": "h",
         "showlegend": true,
         "x": [
          2016,
          2017
         ],
         "xaxis": "x",
         "y": [
          "Islamic State of Iraq and the Levant (ISIL)",
          "Islamic State of Iraq and the Levant (ISIL)"
         ],
         "yaxis": "y",
         "type": "scatter"
        },
        {
         "hovertemplate": "Region=Southeast Asia<br>Year=%{x}<br>Terrorist Group=%{y}<br># Attacks=%{marker.size}<extra></extra>",
         "legendgroup": "Southeast Asia",
         "marker": {
          "color": "rgb(68, 170, 153)",
          "size": [
           10,
           18
          ],
          "sizemode": "area",
          "sizeref": 3.595,
          "symbol": "circle"
         },
         "mode": "markers",
         "name": "Southeast Asia",
         "orientation": "h",
         "showlegend": true,
         "x": [
          2016,
          2017
         ],
         "xaxis": "x",
         "y": [
          "Islamic State of Iraq and the Levant (ISIL)",
          "Islamic State of Iraq and the Levant (ISIL)"
         ],
         "yaxis": "y",
         "type": "scatter"
        },
        {
         "hovertemplate": "Region=Australasia & Oceania<br>Year=%{x}<br>Terrorist Group=%{y}<br># Attacks=%{marker.size}<extra></extra>",
         "legendgroup": "Australasia & Oceania",
         "marker": {
          "color": "rgb(153, 153, 51)",
          "size": [
           1
          ],
          "sizemode": "area",
          "sizeref": 3.595,
          "symbol": "circle"
         },
         "mode": "markers",
         "name": "Australasia & Oceania",
         "orientation": "h",
         "showlegend": true,
         "x": [
          2017
         ],
         "xaxis": "x",
         "y": [
          "Islamic State of Iraq and the Levant (ISIL)"
         ],
         "yaxis": "y",
         "type": "scatter"
        },
        {
         "hovertemplate": "Region=South America<br>Year=%{x}<br>Terrorist Group=%{y}<br># Attacks=%{marker.size}<extra></extra>",
         "legendgroup": "South America",
         "marker": {
          "color": "rgb(136, 34, 85)",
          "size": [
           1,
           1,
           25,
           87,
           249,
           493,
           502,
           249,
           391,
           464,
           277,
           509,
           371,
           426,
           286,
           73,
           34,
           23,
           31,
           3,
           5,
           2,
           3,
           1,
           1,
           2,
           1,
           1,
           3,
           4,
           5,
           10,
           9,
           6,
           2,
           4
          ],
          "sizemode": "area",
          "sizeref": 3.595,
          "symbol": "circle"
         },
         "mode": "markers",
         "name": "South America",
         "orientation": "h",
         "showlegend": true,
         "x": [
          1978,
          1979,
          1980,
          1981,
          1982,
          1983,
          1984,
          1985,
          1986,
          1987,
          1988,
          1989,
          1990,
          1991,
          1992,
          1994,
          1995,
          1996,
          1997,
          1998,
          1999,
          2000,
          2001,
          2002,
          2003,
          2004,
          2005,
          2006,
          2007,
          2009,
          2012,
          2013,
          2014,
          2015,
          2016,
          2017
         ],
         "xaxis": "x",
         "y": [
          "Shining Path (SL)",
          "Shining Path (SL)",
          "Shining Path (SL)",
          "Shining Path (SL)",
          "Shining Path (SL)",
          "Shining Path (SL)",
          "Shining Path (SL)",
          "Shining Path (SL)",
          "Shining Path (SL)",
          "Shining Path (SL)",
          "Shining Path (SL)",
          "Shining Path (SL)",
          "Shining Path (SL)",
          "Shining Path (SL)",
          "Shining Path (SL)",
          "Shining Path (SL)",
          "Shining Path (SL)",
          "Shining Path (SL)",
          "Shining Path (SL)",
          "Shining Path (SL)",
          "Shining Path (SL)",
          "Shining Path (SL)",
          "Shining Path (SL)",
          "Shining Path (SL)",
          "Shining Path (SL)",
          "Shining Path (SL)",
          "Shining Path (SL)",
          "Shining Path (SL)",
          "Shining Path (SL)",
          "Shining Path (SL)",
          "Shining Path (SL)",
          "Shining Path (SL)",
          "Shining Path (SL)",
          "Shining Path (SL)",
          "Shining Path (SL)",
          "Shining Path (SL)"
         ],
         "yaxis": "y",
         "type": "scatter"
        },
        {
         "hovertemplate": "Region=North America<br>Year=%{x}<br>Terrorist Group=%{y}<br># Attacks=%{marker.size}<extra></extra>",
         "legendgroup": "North America",
         "marker": {
          "color": "rgb(102, 17, 0)",
          "size": [
           1
          ],
          "sizemode": "area",
          "sizeref": 3.595,
          "symbol": "circle"
         },
         "mode": "markers",
         "name": "North America",
         "orientation": "h",
         "showlegend": true,
         "x": [
          1994
         ],
         "xaxis": "x",
         "y": [
          "Shining Path (SL)"
         ],
         "yaxis": "y",
         "type": "scatter"
        },
        {
         "hovertemplate": "Region=South Asia<br>Year=%{x}<br>Terrorist Group=%{y}<br># Attacks=%{marker.size}<extra></extra>",
         "legendgroup": "South Asia",
         "marker": {
          "color": "rgb(136, 136, 136)",
          "size": [
           4,
           4,
           7,
           50,
           55,
           120,
           164,
           208,
           258,
           268,
           308,
           214,
           800,
           775,
           1034,
           1249,
           1065,
           894
          ],
          "sizemode": "area",
          "sizeref": 3.595,
          "symbol": "circle"
         },
         "mode": "markers",
         "name": "South Asia",
         "orientation": "h",
         "showlegend": true,
         "x": [
          1995,
          2001,
          2002,
          2003,
          2004,
          2005,
          2006,
          2007,
          2008,
          2009,
          2010,
          2011,
          2012,
          2013,
          2014,
          2015,
          2016,
          2017
         ],
         "xaxis": "x",
         "y": [
          "Taliban",
          "Taliban",
          "Taliban",
          "Taliban",
          "Taliban",
          "Taliban",
          "Taliban",
          "Taliban",
          "Taliban",
          "Taliban",
          "Taliban",
          "Taliban",
          "Taliban",
          "Taliban",
          "Taliban",
          "Taliban",
          "Taliban",
          "Taliban"
         ],
         "yaxis": "y",
         "type": "scatter"
        }
       ],
       "layout": {
        "template": {
         "data": {
          "histogram2dcontour": [
           {
            "type": "histogram2dcontour",
            "colorbar": {
             "outlinewidth": 0,
             "ticks": ""
            },
            "colorscale": [
             [
              0.0,
              "#0d0887"
             ],
             [
              0.1111111111111111,
              "#46039f"
             ],
             [
              0.2222222222222222,
              "#7201a8"
             ],
             [
              0.3333333333333333,
              "#9c179e"
             ],
             [
              0.4444444444444444,
              "#bd3786"
             ],
             [
              0.5555555555555556,
              "#d8576b"
             ],
             [
              0.6666666666666666,
              "#ed7953"
             ],
             [
              0.7777777777777778,
              "#fb9f3a"
             ],
             [
              0.8888888888888888,
              "#fdca26"
             ],
             [
              1.0,
              "#f0f921"
             ]
            ]
           }
          ],
          "choropleth": [
           {
            "type": "choropleth",
            "colorbar": {
             "outlinewidth": 0,
             "ticks": ""
            }
           }
          ],
          "histogram2d": [
           {
            "type": "histogram2d",
            "colorbar": {
             "outlinewidth": 0,
             "ticks": ""
            },
            "colorscale": [
             [
              0.0,
              "#0d0887"
             ],
             [
              0.1111111111111111,
              "#46039f"
             ],
             [
              0.2222222222222222,
              "#7201a8"
             ],
             [
              0.3333333333333333,
              "#9c179e"
             ],
             [
              0.4444444444444444,
              "#bd3786"
             ],
             [
              0.5555555555555556,
              "#d8576b"
             ],
             [
              0.6666666666666666,
              "#ed7953"
             ],
             [
              0.7777777777777778,
              "#fb9f3a"
             ],
             [
              0.8888888888888888,
              "#fdca26"
             ],
             [
              1.0,
              "#f0f921"
             ]
            ]
           }
          ],
          "heatmap": [
           {
            "type": "heatmap",
            "colorbar": {
             "outlinewidth": 0,
             "ticks": ""
            },
            "colorscale": [
             [
              0.0,
              "#0d0887"
             ],
             [
              0.1111111111111111,
              "#46039f"
             ],
             [
              0.2222222222222222,
              "#7201a8"
             ],
             [
              0.3333333333333333,
              "#9c179e"
             ],
             [
              0.4444444444444444,
              "#bd3786"
             ],
             [
              0.5555555555555556,
              "#d8576b"
             ],
             [
              0.6666666666666666,
              "#ed7953"
             ],
             [
              0.7777777777777778,
              "#fb9f3a"
             ],
             [
              0.8888888888888888,
              "#fdca26"
             ],
             [
              1.0,
              "#f0f921"
             ]
            ]
           }
          ],
          "heatmapgl": [
           {
            "type": "heatmapgl",
            "colorbar": {
             "outlinewidth": 0,
             "ticks": ""
            },
            "colorscale": [
             [
              0.0,
              "#0d0887"
             ],
             [
              0.1111111111111111,
              "#46039f"
             ],
             [
              0.2222222222222222,
              "#7201a8"
             ],
             [
              0.3333333333333333,
              "#9c179e"
             ],
             [
              0.4444444444444444,
              "#bd3786"
             ],
             [
              0.5555555555555556,
              "#d8576b"
             ],
             [
              0.6666666666666666,
              "#ed7953"
             ],
             [
              0.7777777777777778,
              "#fb9f3a"
             ],
             [
              0.8888888888888888,
              "#fdca26"
             ],
             [
              1.0,
              "#f0f921"
             ]
            ]
           }
          ],
          "contourcarpet": [
           {
            "type": "contourcarpet",
            "colorbar": {
             "outlinewidth": 0,
             "ticks": ""
            }
           }
          ],
          "contour": [
           {
            "type": "contour",
            "colorbar": {
             "outlinewidth": 0,
             "ticks": ""
            },
            "colorscale": [
             [
              0.0,
              "#0d0887"
             ],
             [
              0.1111111111111111,
              "#46039f"
             ],
             [
              0.2222222222222222,
              "#7201a8"
             ],
             [
              0.3333333333333333,
              "#9c179e"
             ],
             [
              0.4444444444444444,
              "#bd3786"
             ],
             [
              0.5555555555555556,
              "#d8576b"
             ],
             [
              0.6666666666666666,
              "#ed7953"
             ],
             [
              0.7777777777777778,
              "#fb9f3a"
             ],
             [
              0.8888888888888888,
              "#fdca26"
             ],
             [
              1.0,
              "#f0f921"
             ]
            ]
           }
          ],
          "surface": [
           {
            "type": "surface",
            "colorbar": {
             "outlinewidth": 0,
             "ticks": ""
            },
            "colorscale": [
             [
              0.0,
              "#0d0887"
             ],
             [
              0.1111111111111111,
              "#46039f"
             ],
             [
              0.2222222222222222,
              "#7201a8"
             ],
             [
              0.3333333333333333,
              "#9c179e"
             ],
             [
              0.4444444444444444,
              "#bd3786"
             ],
             [
              0.5555555555555556,
              "#d8576b"
             ],
             [
              0.6666666666666666,
              "#ed7953"
             ],
             [
              0.7777777777777778,
              "#fb9f3a"
             ],
             [
              0.8888888888888888,
              "#fdca26"
             ],
             [
              1.0,
              "#f0f921"
             ]
            ]
           }
          ],
          "mesh3d": [
           {
            "type": "mesh3d",
            "colorbar": {
             "outlinewidth": 0,
             "ticks": ""
            }
           }
          ],
          "scatter": [
           {
            "fillpattern": {
             "fillmode": "overlay",
             "size": 10,
             "solidity": 0.2
            },
            "type": "scatter"
           }
          ],
          "parcoords": [
           {
            "type": "parcoords",
            "line": {
             "colorbar": {
              "outlinewidth": 0,
              "ticks": ""
             }
            }
           }
          ],
          "scatterpolargl": [
           {
            "type": "scatterpolargl",
            "marker": {
             "colorbar": {
              "outlinewidth": 0,
              "ticks": ""
             }
            }
           }
          ],
          "bar": [
           {
            "error_x": {
             "color": "#2a3f5f"
            },
            "error_y": {
             "color": "#2a3f5f"
            },
            "marker": {
             "line": {
              "color": "#E5ECF6",
              "width": 0.5
             },
             "pattern": {
              "fillmode": "overlay",
              "size": 10,
              "solidity": 0.2
             }
            },
            "type": "bar"
           }
          ],
          "scattergeo": [
           {
            "type": "scattergeo",
            "marker": {
             "colorbar": {
              "outlinewidth": 0,
              "ticks": ""
             }
            }
           }
          ],
          "scatterpolar": [
           {
            "type": "scatterpolar",
            "marker": {
             "colorbar": {
              "outlinewidth": 0,
              "ticks": ""
             }
            }
           }
          ],
          "histogram": [
           {
            "marker": {
             "pattern": {
              "fillmode": "overlay",
              "size": 10,
              "solidity": 0.2
             }
            },
            "type": "histogram"
           }
          ],
          "scattergl": [
           {
            "type": "scattergl",
            "marker": {
             "colorbar": {
              "outlinewidth": 0,
              "ticks": ""
             }
            }
           }
          ],
          "scatter3d": [
           {
            "type": "scatter3d",
            "line": {
             "colorbar": {
              "outlinewidth": 0,
              "ticks": ""
             }
            },
            "marker": {
             "colorbar": {
              "outlinewidth": 0,
              "ticks": ""
             }
            }
           }
          ],
          "scattermapbox": [
           {
            "type": "scattermapbox",
            "marker": {
             "colorbar": {
              "outlinewidth": 0,
              "ticks": ""
             }
            }
           }
          ],
          "scatterternary": [
           {
            "type": "scatterternary",
            "marker": {
             "colorbar": {
              "outlinewidth": 0,
              "ticks": ""
             }
            }
           }
          ],
          "scattercarpet": [
           {
            "type": "scattercarpet",
            "marker": {
             "colorbar": {
              "outlinewidth": 0,
              "ticks": ""
             }
            }
           }
          ],
          "carpet": [
           {
            "aaxis": {
             "endlinecolor": "#2a3f5f",
             "gridcolor": "white",
             "linecolor": "white",
             "minorgridcolor": "white",
             "startlinecolor": "#2a3f5f"
            },
            "baxis": {
             "endlinecolor": "#2a3f5f",
             "gridcolor": "white",
             "linecolor": "white",
             "minorgridcolor": "white",
             "startlinecolor": "#2a3f5f"
            },
            "type": "carpet"
           }
          ],
          "table": [
           {
            "cells": {
             "fill": {
              "color": "#EBF0F8"
             },
             "line": {
              "color": "white"
             }
            },
            "header": {
             "fill": {
              "color": "#C8D4E3"
             },
             "line": {
              "color": "white"
             }
            },
            "type": "table"
           }
          ],
          "barpolar": [
           {
            "marker": {
             "line": {
              "color": "#E5ECF6",
              "width": 0.5
             },
             "pattern": {
              "fillmode": "overlay",
              "size": 10,
              "solidity": 0.2
             }
            },
            "type": "barpolar"
           }
          ],
          "pie": [
           {
            "automargin": true,
            "type": "pie"
           }
          ]
         },
         "layout": {
          "autotypenumbers": "strict",
          "colorway": [
           "#636efa",
           "#EF553B",
           "#00cc96",
           "#ab63fa",
           "#FFA15A",
           "#19d3f3",
           "#FF6692",
           "#B6E880",
           "#FF97FF",
           "#FECB52"
          ],
          "font": {
           "color": "#2a3f5f"
          },
          "hovermode": "closest",
          "hoverlabel": {
           "align": "left"
          },
          "paper_bgcolor": "white",
          "plot_bgcolor": "#E5ECF6",
          "polar": {
           "bgcolor": "#E5ECF6",
           "angularaxis": {
            "gridcolor": "white",
            "linecolor": "white",
            "ticks": ""
           },
           "radialaxis": {
            "gridcolor": "white",
            "linecolor": "white",
            "ticks": ""
           }
          },
          "ternary": {
           "bgcolor": "#E5ECF6",
           "aaxis": {
            "gridcolor": "white",
            "linecolor": "white",
            "ticks": ""
           },
           "baxis": {
            "gridcolor": "white",
            "linecolor": "white",
            "ticks": ""
           },
           "caxis": {
            "gridcolor": "white",
            "linecolor": "white",
            "ticks": ""
           }
          },
          "coloraxis": {
           "colorbar": {
            "outlinewidth": 0,
            "ticks": ""
           }
          },
          "colorscale": {
           "sequential": [
            [
             0.0,
             "#0d0887"
            ],
            [
             0.1111111111111111,
             "#46039f"
            ],
            [
             0.2222222222222222,
             "#7201a8"
            ],
            [
             0.3333333333333333,
             "#9c179e"
            ],
            [
             0.4444444444444444,
             "#bd3786"
            ],
            [
             0.5555555555555556,
             "#d8576b"
            ],
            [
             0.6666666666666666,
             "#ed7953"
            ],
            [
             0.7777777777777778,
             "#fb9f3a"
            ],
            [
             0.8888888888888888,
             "#fdca26"
            ],
            [
             1.0,
             "#f0f921"
            ]
           ],
           "sequentialminus": [
            [
             0.0,
             "#0d0887"
            ],
            [
             0.1111111111111111,
             "#46039f"
            ],
            [
             0.2222222222222222,
             "#7201a8"
            ],
            [
             0.3333333333333333,
             "#9c179e"
            ],
            [
             0.4444444444444444,
             "#bd3786"
            ],
            [
             0.5555555555555556,
             "#d8576b"
            ],
            [
             0.6666666666666666,
             "#ed7953"
            ],
            [
             0.7777777777777778,
             "#fb9f3a"
            ],
            [
             0.8888888888888888,
             "#fdca26"
            ],
            [
             1.0,
             "#f0f921"
            ]
           ],
           "diverging": [
            [
             0,
             "#8e0152"
            ],
            [
             0.1,
             "#c51b7d"
            ],
            [
             0.2,
             "#de77ae"
            ],
            [
             0.3,
             "#f1b6da"
            ],
            [
             0.4,
             "#fde0ef"
            ],
            [
             0.5,
             "#f7f7f7"
            ],
            [
             0.6,
             "#e6f5d0"
            ],
            [
             0.7,
             "#b8e186"
            ],
            [
             0.8,
             "#7fbc41"
            ],
            [
             0.9,
             "#4d9221"
            ],
            [
             1,
             "#276419"
            ]
           ]
          },
          "xaxis": {
           "gridcolor": "white",
           "linecolor": "white",
           "ticks": "",
           "title": {
            "standoff": 15
           },
           "zerolinecolor": "white",
           "automargin": true,
           "zerolinewidth": 2
          },
          "yaxis": {
           "gridcolor": "white",
           "linecolor": "white",
           "ticks": "",
           "title": {
            "standoff": 15
           },
           "zerolinecolor": "white",
           "automargin": true,
           "zerolinewidth": 2
          },
          "scene": {
           "xaxis": {
            "backgroundcolor": "#E5ECF6",
            "gridcolor": "white",
            "linecolor": "white",
            "showbackground": true,
            "ticks": "",
            "zerolinecolor": "white",
            "gridwidth": 2
           },
           "yaxis": {
            "backgroundcolor": "#E5ECF6",
            "gridcolor": "white",
            "linecolor": "white",
            "showbackground": true,
            "ticks": "",
            "zerolinecolor": "white",
            "gridwidth": 2
           },
           "zaxis": {
            "backgroundcolor": "#E5ECF6",
            "gridcolor": "white",
            "linecolor": "white",
            "showbackground": true,
            "ticks": "",
            "zerolinecolor": "white",
            "gridwidth": 2
           }
          },
          "shapedefaults": {
           "line": {
            "color": "#2a3f5f"
           }
          },
          "annotationdefaults": {
           "arrowcolor": "#2a3f5f",
           "arrowhead": 0,
           "arrowwidth": 1
          },
          "geo": {
           "bgcolor": "white",
           "landcolor": "#E5ECF6",
           "subunitcolor": "white",
           "showland": true,
           "showlakes": true,
           "lakecolor": "white"
          },
          "title": {
           "x": 0.05
          },
          "mapbox": {
           "style": "light"
          }
         }
        },
        "xaxis": {
         "anchor": "y",
         "domain": [
          0.0,
          1.0
         ],
         "title": {
          "text": "Year"
         },
         "dtick": 5
        },
        "yaxis": {
         "anchor": "x",
         "domain": [
          0.0,
          1.0
         ],
         "title": {
          "text": "Terrorist Group"
         }
        },
        "legend": {
         "title": {
          "text": "Region"
         },
         "tracegroupgap": 0,
         "itemsizing": "constant",
         "orientation": "h",
         "yanchor": "bottom",
         "y": 1.02,
         "xanchor": "right",
         "x": 1
        },
        "margin": {
         "t": 80,
         "l": 120,
         "r": 20,
         "b": 40
        },
        "height": 600,
        "title": {
         "text": "Attacks Over Time & Region for Top 5 Terrorist Groups",
         "y": 0.98,
         "x": 0.5,
         "xanchor": "center",
         "yanchor": "top"
        }
       },
       "config": {
        "plotlyServerURL": "https://plot.ly"
       }
      },
      "text/html": [
       "<div>                            <div id=\"e91660ab-ebdf-4ad8-9b6a-d2097c3b5bcb\" class=\"plotly-graph-div\" style=\"height:600px; width:100%;\"></div>            <script type=\"text/javascript\">                require([\"plotly\"], function(Plotly) {                    window.PLOTLYENV=window.PLOTLYENV || {};                                    if (document.getElementById(\"e91660ab-ebdf-4ad8-9b6a-d2097c3b5bcb\")) {                    Plotly.newPlot(                        \"e91660ab-ebdf-4ad8-9b6a-d2097c3b5bcb\",                        [{\"hovertemplate\":\"Region=Sub-Saharan Africa\\u003cbr\\u003eYear=%{x}\\u003cbr\\u003eTerrorist Group=%{y}\\u003cbr\\u003e# Attacks=%{marker.size}\\u003cextra\\u003e\\u003c\\u002fextra\\u003e\",\"legendgroup\":\"Sub-Saharan Africa\",\"marker\":{\"color\":\"rgb(136, 204, 238)\",\"size\":[6,26,57,72,164,236,325,871,397,564,570,1],\"sizemode\":\"area\",\"sizeref\":3.595,\"symbol\":\"circle\"},\"mode\":\"markers\",\"name\":\"Sub-Saharan Africa\",\"orientation\":\"h\",\"showlegend\":true,\"x\":[2007,2008,2009,2010,2011,2012,2013,2014,2015,2016,2017,2015],\"xaxis\":\"x\",\"y\":[\"Al-Shabaab\",\"Al-Shabaab\",\"Al-Shabaab\",\"Al-Shabaab\",\"Al-Shabaab\",\"Al-Shabaab\",\"Al-Shabaab\",\"Al-Shabaab\",\"Al-Shabaab\",\"Al-Shabaab\",\"Al-Shabaab\",\"Islamic State of Iraq and the Levant (ISIL)\"],\"yaxis\":\"y\",\"type\":\"scatter\"},{\"hovertemplate\":\"Region=Central America & Caribbean\\u003cbr\\u003eYear=%{x}\\u003cbr\\u003eTerrorist Group=%{y}\\u003cbr\\u003e# Attacks=%{marker.size}\\u003cextra\\u003e\\u003c\\u002fextra\\u003e\",\"legendgroup\":\"Central America & Caribbean\",\"marker\":{\"color\":\"rgb(204, 102, 119)\",\"size\":[1,159,160,284,320,254,422,174,209,351,335,181,492,8,1],\"sizemode\":\"area\",\"sizeref\":3.595,\"symbol\":\"circle\"},\"mode\":\"markers\",\"name\":\"Central America & Caribbean\",\"orientation\":\"h\",\"showlegend\":true,\"x\":[1978,1980,1981,1982,1983,1984,1985,1986,1987,1988,1989,1990,1991,1992,1994],\"xaxis\":\"x\",\"y\":[\"Farabundo Marti National Liberation Front (FMLN)\",\"Farabundo Marti National Liberation Front (FMLN)\",\"Farabundo Marti National Liberation Front (FMLN)\",\"Farabundo Marti National Liberation Front (FMLN)\",\"Farabundo Marti National Liberation Front (FMLN)\",\"Farabundo Marti National Liberation Front (FMLN)\",\"Farabundo Marti National Liberation Front (FMLN)\",\"Farabundo Marti National Liberation Front (FMLN)\",\"Farabundo Marti National Liberation Front (FMLN)\",\"Farabundo Marti National Liberation Front (FMLN)\",\"Farabundo Marti National Liberation Front (FMLN)\",\"Farabundo Marti National Liberation Front (FMLN)\",\"Farabundo Marti National Liberation Front (FMLN)\",\"Farabundo Marti National Liberation Front (FMLN)\",\"Farabundo Marti National Liberation Front (FMLN)\"],\"yaxis\":\"y\",\"type\":\"scatter\"},{\"hovertemplate\":\"Region=Middle East & North Africa\\u003cbr\\u003eYear=%{x}\\u003cbr\\u003eTerrorist Group=%{y}\\u003cbr\\u003e# Attacks=%{marker.size}\\u003cextra\\u003e\\u003c\\u002fextra\\u003e\",\"legendgroup\":\"Middle East & North Africa\",\"marker\":{\"color\":\"rgb(221, 204, 119)\",\"size\":[374,1248,1211,1438,1292],\"sizemode\":\"area\",\"sizeref\":3.595,\"symbol\":\"circle\"},\"mode\":\"markers\",\"name\":\"Middle East & North Africa\",\"orientation\":\"h\",\"showlegend\":true,\"x\":[2013,2014,2015,2016,2017],\"xaxis\":\"x\",\"y\":[\"Islamic State of Iraq and the Levant (ISIL)\",\"Islamic State of Iraq and the Levant (ISIL)\",\"Islamic State of Iraq and the Levant (ISIL)\",\"Islamic State of Iraq and the Levant (ISIL)\",\"Islamic State of Iraq and the Levant (ISIL)\"],\"yaxis\":\"y\",\"type\":\"scatter\"},{\"hovertemplate\":\"Region=Western Europe\\u003cbr\\u003eYear=%{x}\\u003cbr\\u003eTerrorist Group=%{y}\\u003cbr\\u003e# Attacks=%{marker.size}\\u003cextra\\u003e\\u003c\\u002fextra\\u003e\",\"legendgroup\":\"Western Europe\",\"marker\":{\"color\":\"rgb(17, 119, 51)\",\"size\":[1,9,3,2],\"sizemode\":\"area\",\"sizeref\":3.595,\"symbol\":\"circle\"},\"mode\":\"markers\",\"name\":\"Western Europe\",\"orientation\":\"h\",\"showlegend\":true,\"x\":[2014,2015,2016,2017],\"xaxis\":\"x\",\"y\":[\"Islamic State of Iraq and the Levant (ISIL)\",\"Islamic State of Iraq and the Levant (ISIL)\",\"Islamic State of Iraq and the Levant (ISIL)\",\"Islamic State of Iraq and the Levant (ISIL)\"],\"yaxis\":\"y\",\"type\":\"scatter\"},{\"hovertemplate\":\"Region=Central Asia\\u003cbr\\u003eYear=%{x}\\u003cbr\\u003eTerrorist Group=%{y}\\u003cbr\\u003e# Attacks=%{marker.size}\\u003cextra\\u003e\\u003c\\u002fextra\\u003e\",\"legendgroup\":\"Central Asia\",\"marker\":{\"color\":\"rgb(51, 34, 136)\",\"size\":[1,1],\"sizemode\":\"area\",\"sizeref\":3.595,\"symbol\":\"circle\"},\"mode\":\"markers\",\"name\":\"Central Asia\",\"orientation\":\"h\",\"showlegend\":true,\"x\":[2016,2014],\"xaxis\":\"x\",\"y\":[\"Islamic State of Iraq and the Levant (ISIL)\",\"Taliban\"],\"yaxis\":\"y\",\"type\":\"scatter\"},{\"hovertemplate\":\"Region=Eastern Europe\\u003cbr\\u003eYear=%{x}\\u003cbr\\u003eTerrorist Group=%{y}\\u003cbr\\u003e# Attacks=%{marker.size}\\u003cextra\\u003e\\u003c\\u002fextra\\u003e\",\"legendgroup\":\"Eastern Europe\",\"marker\":{\"color\":\"rgb(170, 68, 153)\",\"size\":[2,2],\"sizemode\":\"area\",\"sizeref\":3.595,\"symbol\":\"circle\"},\"mode\":\"markers\",\"name\":\"Eastern Europe\",\"orientation\":\"h\",\"showlegend\":true,\"x\":[2016,2017],\"xaxis\":\"x\",\"y\":[\"Islamic State of Iraq and the Levant (ISIL)\",\"Islamic State of Iraq and the Levant (ISIL)\"],\"yaxis\":\"y\",\"type\":\"scatter\"},{\"hovertemplate\":\"Region=Southeast Asia\\u003cbr\\u003eYear=%{x}\\u003cbr\\u003eTerrorist Group=%{y}\\u003cbr\\u003e# Attacks=%{marker.size}\\u003cextra\\u003e\\u003c\\u002fextra\\u003e\",\"legendgroup\":\"Southeast Asia\",\"marker\":{\"color\":\"rgb(68, 170, 153)\",\"size\":[10,18],\"sizemode\":\"area\",\"sizeref\":3.595,\"symbol\":\"circle\"},\"mode\":\"markers\",\"name\":\"Southeast Asia\",\"orientation\":\"h\",\"showlegend\":true,\"x\":[2016,2017],\"xaxis\":\"x\",\"y\":[\"Islamic State of Iraq and the Levant (ISIL)\",\"Islamic State of Iraq and the Levant (ISIL)\"],\"yaxis\":\"y\",\"type\":\"scatter\"},{\"hovertemplate\":\"Region=Australasia & Oceania\\u003cbr\\u003eYear=%{x}\\u003cbr\\u003eTerrorist Group=%{y}\\u003cbr\\u003e# Attacks=%{marker.size}\\u003cextra\\u003e\\u003c\\u002fextra\\u003e\",\"legendgroup\":\"Australasia & Oceania\",\"marker\":{\"color\":\"rgb(153, 153, 51)\",\"size\":[1],\"sizemode\":\"area\",\"sizeref\":3.595,\"symbol\":\"circle\"},\"mode\":\"markers\",\"name\":\"Australasia & Oceania\",\"orientation\":\"h\",\"showlegend\":true,\"x\":[2017],\"xaxis\":\"x\",\"y\":[\"Islamic State of Iraq and the Levant (ISIL)\"],\"yaxis\":\"y\",\"type\":\"scatter\"},{\"hovertemplate\":\"Region=South America\\u003cbr\\u003eYear=%{x}\\u003cbr\\u003eTerrorist Group=%{y}\\u003cbr\\u003e# Attacks=%{marker.size}\\u003cextra\\u003e\\u003c\\u002fextra\\u003e\",\"legendgroup\":\"South America\",\"marker\":{\"color\":\"rgb(136, 34, 85)\",\"size\":[1,1,25,87,249,493,502,249,391,464,277,509,371,426,286,73,34,23,31,3,5,2,3,1,1,2,1,1,3,4,5,10,9,6,2,4],\"sizemode\":\"area\",\"sizeref\":3.595,\"symbol\":\"circle\"},\"mode\":\"markers\",\"name\":\"South America\",\"orientation\":\"h\",\"showlegend\":true,\"x\":[1978,1979,1980,1981,1982,1983,1984,1985,1986,1987,1988,1989,1990,1991,1992,1994,1995,1996,1997,1998,1999,2000,2001,2002,2003,2004,2005,2006,2007,2009,2012,2013,2014,2015,2016,2017],\"xaxis\":\"x\",\"y\":[\"Shining Path (SL)\",\"Shining Path (SL)\",\"Shining Path (SL)\",\"Shining Path (SL)\",\"Shining Path (SL)\",\"Shining Path (SL)\",\"Shining Path (SL)\",\"Shining Path (SL)\",\"Shining Path (SL)\",\"Shining Path (SL)\",\"Shining Path (SL)\",\"Shining Path (SL)\",\"Shining Path (SL)\",\"Shining Path (SL)\",\"Shining Path (SL)\",\"Shining Path (SL)\",\"Shining Path (SL)\",\"Shining Path (SL)\",\"Shining Path (SL)\",\"Shining Path (SL)\",\"Shining Path (SL)\",\"Shining Path (SL)\",\"Shining Path (SL)\",\"Shining Path (SL)\",\"Shining Path (SL)\",\"Shining Path (SL)\",\"Shining Path (SL)\",\"Shining Path (SL)\",\"Shining Path (SL)\",\"Shining Path (SL)\",\"Shining Path (SL)\",\"Shining Path (SL)\",\"Shining Path (SL)\",\"Shining Path (SL)\",\"Shining Path (SL)\",\"Shining Path (SL)\"],\"yaxis\":\"y\",\"type\":\"scatter\"},{\"hovertemplate\":\"Region=North America\\u003cbr\\u003eYear=%{x}\\u003cbr\\u003eTerrorist Group=%{y}\\u003cbr\\u003e# Attacks=%{marker.size}\\u003cextra\\u003e\\u003c\\u002fextra\\u003e\",\"legendgroup\":\"North America\",\"marker\":{\"color\":\"rgb(102, 17, 0)\",\"size\":[1],\"sizemode\":\"area\",\"sizeref\":3.595,\"symbol\":\"circle\"},\"mode\":\"markers\",\"name\":\"North America\",\"orientation\":\"h\",\"showlegend\":true,\"x\":[1994],\"xaxis\":\"x\",\"y\":[\"Shining Path (SL)\"],\"yaxis\":\"y\",\"type\":\"scatter\"},{\"hovertemplate\":\"Region=South Asia\\u003cbr\\u003eYear=%{x}\\u003cbr\\u003eTerrorist Group=%{y}\\u003cbr\\u003e# Attacks=%{marker.size}\\u003cextra\\u003e\\u003c\\u002fextra\\u003e\",\"legendgroup\":\"South Asia\",\"marker\":{\"color\":\"rgb(136, 136, 136)\",\"size\":[4,4,7,50,55,120,164,208,258,268,308,214,800,775,1034,1249,1065,894],\"sizemode\":\"area\",\"sizeref\":3.595,\"symbol\":\"circle\"},\"mode\":\"markers\",\"name\":\"South Asia\",\"orientation\":\"h\",\"showlegend\":true,\"x\":[1995,2001,2002,2003,2004,2005,2006,2007,2008,2009,2010,2011,2012,2013,2014,2015,2016,2017],\"xaxis\":\"x\",\"y\":[\"Taliban\",\"Taliban\",\"Taliban\",\"Taliban\",\"Taliban\",\"Taliban\",\"Taliban\",\"Taliban\",\"Taliban\",\"Taliban\",\"Taliban\",\"Taliban\",\"Taliban\",\"Taliban\",\"Taliban\",\"Taliban\",\"Taliban\",\"Taliban\"],\"yaxis\":\"y\",\"type\":\"scatter\"}],                        {\"template\":{\"data\":{\"histogram2dcontour\":[{\"type\":\"histogram2dcontour\",\"colorbar\":{\"outlinewidth\":0,\"ticks\":\"\"},\"colorscale\":[[0.0,\"#0d0887\"],[0.1111111111111111,\"#46039f\"],[0.2222222222222222,\"#7201a8\"],[0.3333333333333333,\"#9c179e\"],[0.4444444444444444,\"#bd3786\"],[0.5555555555555556,\"#d8576b\"],[0.6666666666666666,\"#ed7953\"],[0.7777777777777778,\"#fb9f3a\"],[0.8888888888888888,\"#fdca26\"],[1.0,\"#f0f921\"]]}],\"choropleth\":[{\"type\":\"choropleth\",\"colorbar\":{\"outlinewidth\":0,\"ticks\":\"\"}}],\"histogram2d\":[{\"type\":\"histogram2d\",\"colorbar\":{\"outlinewidth\":0,\"ticks\":\"\"},\"colorscale\":[[0.0,\"#0d0887\"],[0.1111111111111111,\"#46039f\"],[0.2222222222222222,\"#7201a8\"],[0.3333333333333333,\"#9c179e\"],[0.4444444444444444,\"#bd3786\"],[0.5555555555555556,\"#d8576b\"],[0.6666666666666666,\"#ed7953\"],[0.7777777777777778,\"#fb9f3a\"],[0.8888888888888888,\"#fdca26\"],[1.0,\"#f0f921\"]]}],\"heatmap\":[{\"type\":\"heatmap\",\"colorbar\":{\"outlinewidth\":0,\"ticks\":\"\"},\"colorscale\":[[0.0,\"#0d0887\"],[0.1111111111111111,\"#46039f\"],[0.2222222222222222,\"#7201a8\"],[0.3333333333333333,\"#9c179e\"],[0.4444444444444444,\"#bd3786\"],[0.5555555555555556,\"#d8576b\"],[0.6666666666666666,\"#ed7953\"],[0.7777777777777778,\"#fb9f3a\"],[0.8888888888888888,\"#fdca26\"],[1.0,\"#f0f921\"]]}],\"heatmapgl\":[{\"type\":\"heatmapgl\",\"colorbar\":{\"outlinewidth\":0,\"ticks\":\"\"},\"colorscale\":[[0.0,\"#0d0887\"],[0.1111111111111111,\"#46039f\"],[0.2222222222222222,\"#7201a8\"],[0.3333333333333333,\"#9c179e\"],[0.4444444444444444,\"#bd3786\"],[0.5555555555555556,\"#d8576b\"],[0.6666666666666666,\"#ed7953\"],[0.7777777777777778,\"#fb9f3a\"],[0.8888888888888888,\"#fdca26\"],[1.0,\"#f0f921\"]]}],\"contourcarpet\":[{\"type\":\"contourcarpet\",\"colorbar\":{\"outlinewidth\":0,\"ticks\":\"\"}}],\"contour\":[{\"type\":\"contour\",\"colorbar\":{\"outlinewidth\":0,\"ticks\":\"\"},\"colorscale\":[[0.0,\"#0d0887\"],[0.1111111111111111,\"#46039f\"],[0.2222222222222222,\"#7201a8\"],[0.3333333333333333,\"#9c179e\"],[0.4444444444444444,\"#bd3786\"],[0.5555555555555556,\"#d8576b\"],[0.6666666666666666,\"#ed7953\"],[0.7777777777777778,\"#fb9f3a\"],[0.8888888888888888,\"#fdca26\"],[1.0,\"#f0f921\"]]}],\"surface\":[{\"type\":\"surface\",\"colorbar\":{\"outlinewidth\":0,\"ticks\":\"\"},\"colorscale\":[[0.0,\"#0d0887\"],[0.1111111111111111,\"#46039f\"],[0.2222222222222222,\"#7201a8\"],[0.3333333333333333,\"#9c179e\"],[0.4444444444444444,\"#bd3786\"],[0.5555555555555556,\"#d8576b\"],[0.6666666666666666,\"#ed7953\"],[0.7777777777777778,\"#fb9f3a\"],[0.8888888888888888,\"#fdca26\"],[1.0,\"#f0f921\"]]}],\"mesh3d\":[{\"type\":\"mesh3d\",\"colorbar\":{\"outlinewidth\":0,\"ticks\":\"\"}}],\"scatter\":[{\"fillpattern\":{\"fillmode\":\"overlay\",\"size\":10,\"solidity\":0.2},\"type\":\"scatter\"}],\"parcoords\":[{\"type\":\"parcoords\",\"line\":{\"colorbar\":{\"outlinewidth\":0,\"ticks\":\"\"}}}],\"scatterpolargl\":[{\"type\":\"scatterpolargl\",\"marker\":{\"colorbar\":{\"outlinewidth\":0,\"ticks\":\"\"}}}],\"bar\":[{\"error_x\":{\"color\":\"#2a3f5f\"},\"error_y\":{\"color\":\"#2a3f5f\"},\"marker\":{\"line\":{\"color\":\"#E5ECF6\",\"width\":0.5},\"pattern\":{\"fillmode\":\"overlay\",\"size\":10,\"solidity\":0.2}},\"type\":\"bar\"}],\"scattergeo\":[{\"type\":\"scattergeo\",\"marker\":{\"colorbar\":{\"outlinewidth\":0,\"ticks\":\"\"}}}],\"scatterpolar\":[{\"type\":\"scatterpolar\",\"marker\":{\"colorbar\":{\"outlinewidth\":0,\"ticks\":\"\"}}}],\"histogram\":[{\"marker\":{\"pattern\":{\"fillmode\":\"overlay\",\"size\":10,\"solidity\":0.2}},\"type\":\"histogram\"}],\"scattergl\":[{\"type\":\"scattergl\",\"marker\":{\"colorbar\":{\"outlinewidth\":0,\"ticks\":\"\"}}}],\"scatter3d\":[{\"type\":\"scatter3d\",\"line\":{\"colorbar\":{\"outlinewidth\":0,\"ticks\":\"\"}},\"marker\":{\"colorbar\":{\"outlinewidth\":0,\"ticks\":\"\"}}}],\"scattermapbox\":[{\"type\":\"scattermapbox\",\"marker\":{\"colorbar\":{\"outlinewidth\":0,\"ticks\":\"\"}}}],\"scatterternary\":[{\"type\":\"scatterternary\",\"marker\":{\"colorbar\":{\"outlinewidth\":0,\"ticks\":\"\"}}}],\"scattercarpet\":[{\"type\":\"scattercarpet\",\"marker\":{\"colorbar\":{\"outlinewidth\":0,\"ticks\":\"\"}}}],\"carpet\":[{\"aaxis\":{\"endlinecolor\":\"#2a3f5f\",\"gridcolor\":\"white\",\"linecolor\":\"white\",\"minorgridcolor\":\"white\",\"startlinecolor\":\"#2a3f5f\"},\"baxis\":{\"endlinecolor\":\"#2a3f5f\",\"gridcolor\":\"white\",\"linecolor\":\"white\",\"minorgridcolor\":\"white\",\"startlinecolor\":\"#2a3f5f\"},\"type\":\"carpet\"}],\"table\":[{\"cells\":{\"fill\":{\"color\":\"#EBF0F8\"},\"line\":{\"color\":\"white\"}},\"header\":{\"fill\":{\"color\":\"#C8D4E3\"},\"line\":{\"color\":\"white\"}},\"type\":\"table\"}],\"barpolar\":[{\"marker\":{\"line\":{\"color\":\"#E5ECF6\",\"width\":0.5},\"pattern\":{\"fillmode\":\"overlay\",\"size\":10,\"solidity\":0.2}},\"type\":\"barpolar\"}],\"pie\":[{\"automargin\":true,\"type\":\"pie\"}]},\"layout\":{\"autotypenumbers\":\"strict\",\"colorway\":[\"#636efa\",\"#EF553B\",\"#00cc96\",\"#ab63fa\",\"#FFA15A\",\"#19d3f3\",\"#FF6692\",\"#B6E880\",\"#FF97FF\",\"#FECB52\"],\"font\":{\"color\":\"#2a3f5f\"},\"hovermode\":\"closest\",\"hoverlabel\":{\"align\":\"left\"},\"paper_bgcolor\":\"white\",\"plot_bgcolor\":\"#E5ECF6\",\"polar\":{\"bgcolor\":\"#E5ECF6\",\"angularaxis\":{\"gridcolor\":\"white\",\"linecolor\":\"white\",\"ticks\":\"\"},\"radialaxis\":{\"gridcolor\":\"white\",\"linecolor\":\"white\",\"ticks\":\"\"}},\"ternary\":{\"bgcolor\":\"#E5ECF6\",\"aaxis\":{\"gridcolor\":\"white\",\"linecolor\":\"white\",\"ticks\":\"\"},\"baxis\":{\"gridcolor\":\"white\",\"linecolor\":\"white\",\"ticks\":\"\"},\"caxis\":{\"gridcolor\":\"white\",\"linecolor\":\"white\",\"ticks\":\"\"}},\"coloraxis\":{\"colorbar\":{\"outlinewidth\":0,\"ticks\":\"\"}},\"colorscale\":{\"sequential\":[[0.0,\"#0d0887\"],[0.1111111111111111,\"#46039f\"],[0.2222222222222222,\"#7201a8\"],[0.3333333333333333,\"#9c179e\"],[0.4444444444444444,\"#bd3786\"],[0.5555555555555556,\"#d8576b\"],[0.6666666666666666,\"#ed7953\"],[0.7777777777777778,\"#fb9f3a\"],[0.8888888888888888,\"#fdca26\"],[1.0,\"#f0f921\"]],\"sequentialminus\":[[0.0,\"#0d0887\"],[0.1111111111111111,\"#46039f\"],[0.2222222222222222,\"#7201a8\"],[0.3333333333333333,\"#9c179e\"],[0.4444444444444444,\"#bd3786\"],[0.5555555555555556,\"#d8576b\"],[0.6666666666666666,\"#ed7953\"],[0.7777777777777778,\"#fb9f3a\"],[0.8888888888888888,\"#fdca26\"],[1.0,\"#f0f921\"]],\"diverging\":[[0,\"#8e0152\"],[0.1,\"#c51b7d\"],[0.2,\"#de77ae\"],[0.3,\"#f1b6da\"],[0.4,\"#fde0ef\"],[0.5,\"#f7f7f7\"],[0.6,\"#e6f5d0\"],[0.7,\"#b8e186\"],[0.8,\"#7fbc41\"],[0.9,\"#4d9221\"],[1,\"#276419\"]]},\"xaxis\":{\"gridcolor\":\"white\",\"linecolor\":\"white\",\"ticks\":\"\",\"title\":{\"standoff\":15},\"zerolinecolor\":\"white\",\"automargin\":true,\"zerolinewidth\":2},\"yaxis\":{\"gridcolor\":\"white\",\"linecolor\":\"white\",\"ticks\":\"\",\"title\":{\"standoff\":15},\"zerolinecolor\":\"white\",\"automargin\":true,\"zerolinewidth\":2},\"scene\":{\"xaxis\":{\"backgroundcolor\":\"#E5ECF6\",\"gridcolor\":\"white\",\"linecolor\":\"white\",\"showbackground\":true,\"ticks\":\"\",\"zerolinecolor\":\"white\",\"gridwidth\":2},\"yaxis\":{\"backgroundcolor\":\"#E5ECF6\",\"gridcolor\":\"white\",\"linecolor\":\"white\",\"showbackground\":true,\"ticks\":\"\",\"zerolinecolor\":\"white\",\"gridwidth\":2},\"zaxis\":{\"backgroundcolor\":\"#E5ECF6\",\"gridcolor\":\"white\",\"linecolor\":\"white\",\"showbackground\":true,\"ticks\":\"\",\"zerolinecolor\":\"white\",\"gridwidth\":2}},\"shapedefaults\":{\"line\":{\"color\":\"#2a3f5f\"}},\"annotationdefaults\":{\"arrowcolor\":\"#2a3f5f\",\"arrowhead\":0,\"arrowwidth\":1},\"geo\":{\"bgcolor\":\"white\",\"landcolor\":\"#E5ECF6\",\"subunitcolor\":\"white\",\"showland\":true,\"showlakes\":true,\"lakecolor\":\"white\"},\"title\":{\"x\":0.05},\"mapbox\":{\"style\":\"light\"}}},\"xaxis\":{\"anchor\":\"y\",\"domain\":[0.0,1.0],\"title\":{\"text\":\"Year\"},\"dtick\":5},\"yaxis\":{\"anchor\":\"x\",\"domain\":[0.0,1.0],\"title\":{\"text\":\"Terrorist Group\"}},\"legend\":{\"title\":{\"text\":\"Region\"},\"tracegroupgap\":0,\"itemsizing\":\"constant\",\"orientation\":\"h\",\"yanchor\":\"bottom\",\"y\":1.02,\"xanchor\":\"right\",\"x\":1},\"margin\":{\"t\":80,\"l\":120,\"r\":20,\"b\":40},\"height\":600,\"title\":{\"text\":\"Attacks Over Time & Region for Top 5 Terrorist Groups\",\"y\":0.98,\"x\":0.5,\"xanchor\":\"center\",\"yanchor\":\"top\"}},                        {\"responsive\": true}                    ).then(function(){\n",
       "                            \n",
       "var gd = document.getElementById('e91660ab-ebdf-4ad8-9b6a-d2097c3b5bcb');\n",
       "var x = new MutationObserver(function (mutations, observer) {{\n",
       "        var display = window.getComputedStyle(gd).display;\n",
       "        if (!display || display === 'none') {{\n",
       "            console.log([gd, 'removed!']);\n",
       "            Plotly.purge(gd);\n",
       "            observer.disconnect();\n",
       "        }}\n",
       "}});\n",
       "\n",
       "// Listen for the removal of the full notebook cells\n",
       "var notebookContainer = gd.closest('#notebook-container');\n",
       "if (notebookContainer) {{\n",
       "    x.observe(notebookContainer, {childList: true});\n",
       "}}\n",
       "\n",
       "// Listen for the clearing of the current output cell\n",
       "var outputEl = gd.closest('.output');\n",
       "if (outputEl) {{\n",
       "    x.observe(outputEl, {childList: true});\n",
       "}}\n",
       "\n",
       "                        })                };                });            </script>        </div>"
      ]
     },
     "metadata": {},
     "output_type": "display_data"
    }
   ],
   "execution_count": 10
  }
 ],
 "metadata": {},
 "nbformat": 4,
 "nbformat_minor": 5
}
